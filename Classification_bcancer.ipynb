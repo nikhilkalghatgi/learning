{
  "nbformat": 4,
  "nbformat_minor": 0,
  "metadata": {
    "colab": {
      "provenance": [],
      "authorship_tag": "ABX9TyOveKK6voY9NuAhVn7INDuP",
      "include_colab_link": true
    },
    "kernelspec": {
      "name": "python3",
      "display_name": "Python 3"
    },
    "language_info": {
      "name": "python"
    }
  },
  "cells": [
    {
      "cell_type": "markdown",
      "metadata": {
        "id": "view-in-github",
        "colab_type": "text"
      },
      "source": [
        "<a href=\"https://colab.research.google.com/github/nikhilkalghatgi/learning/blob/main/Classification_bcancer.ipynb\" target=\"_parent\"><img src=\"https://colab.research.google.com/assets/colab-badge.svg\" alt=\"Open In Colab\"/></a>"
      ]
    },
    {
      "cell_type": "code",
      "execution_count": null,
      "metadata": {
        "id": "4GMtKymjvPus"
      },
      "outputs": [],
      "source": [
        "import tensorflow as tf"
      ]
    },
    {
      "cell_type": "code",
      "source": [
        "print(tf.__version__)"
      ],
      "metadata": {
        "colab": {
          "base_uri": "https://localhost:8080/"
        },
        "id": "GxuJTiPj1vHM",
        "outputId": "8eb6ada8-a515-4eeb-89bb-9b4d7ee6996c"
      },
      "execution_count": null,
      "outputs": [
        {
          "output_type": "stream",
          "name": "stdout",
          "text": [
            "2.12.0\n"
          ]
        }
      ]
    },
    {
      "cell_type": "code",
      "source": [
        "from sklearn.datasets import load_breast_cancer"
      ],
      "metadata": {
        "id": "qTxNpCab1yZN"
      },
      "execution_count": null,
      "outputs": []
    },
    {
      "cell_type": "code",
      "source": [
        "data = load_breast_cancer()"
      ],
      "metadata": {
        "id": "fJ01gfus16FZ"
      },
      "execution_count": null,
      "outputs": []
    },
    {
      "cell_type": "code",
      "source": [
        "data\n"
      ],
      "metadata": {
        "colab": {
          "base_uri": "https://localhost:8080/"
        },
        "id": "rdZP5BmD1__1",
        "outputId": "081519df-1148-41ec-cd5f-96cc87aed6af"
      },
      "execution_count": null,
      "outputs": [
        {
          "output_type": "execute_result",
          "data": {
            "text/plain": [
              "{'data': array([[1.799e+01, 1.038e+01, 1.228e+02, ..., 2.654e-01, 4.601e-01,\n",
              "         1.189e-01],\n",
              "        [2.057e+01, 1.777e+01, 1.329e+02, ..., 1.860e-01, 2.750e-01,\n",
              "         8.902e-02],\n",
              "        [1.969e+01, 2.125e+01, 1.300e+02, ..., 2.430e-01, 3.613e-01,\n",
              "         8.758e-02],\n",
              "        ...,\n",
              "        [1.660e+01, 2.808e+01, 1.083e+02, ..., 1.418e-01, 2.218e-01,\n",
              "         7.820e-02],\n",
              "        [2.060e+01, 2.933e+01, 1.401e+02, ..., 2.650e-01, 4.087e-01,\n",
              "         1.240e-01],\n",
              "        [7.760e+00, 2.454e+01, 4.792e+01, ..., 0.000e+00, 2.871e-01,\n",
              "         7.039e-02]]),\n",
              " 'target': array([0, 0, 0, 0, 0, 0, 0, 0, 0, 0, 0, 0, 0, 0, 0, 0, 0, 0, 0, 1, 1, 1,\n",
              "        0, 0, 0, 0, 0, 0, 0, 0, 0, 0, 0, 0, 0, 0, 0, 1, 0, 0, 0, 0, 0, 0,\n",
              "        0, 0, 1, 0, 1, 1, 1, 1, 1, 0, 0, 1, 0, 0, 1, 1, 1, 1, 0, 1, 0, 0,\n",
              "        1, 1, 1, 1, 0, 1, 0, 0, 1, 0, 1, 0, 0, 1, 1, 1, 0, 0, 1, 0, 0, 0,\n",
              "        1, 1, 1, 0, 1, 1, 0, 0, 1, 1, 1, 0, 0, 1, 1, 1, 1, 0, 1, 1, 0, 1,\n",
              "        1, 1, 1, 1, 1, 1, 1, 0, 0, 0, 1, 0, 0, 1, 1, 1, 0, 0, 1, 0, 1, 0,\n",
              "        0, 1, 0, 0, 1, 1, 0, 1, 1, 0, 1, 1, 1, 1, 0, 1, 1, 1, 1, 1, 1, 1,\n",
              "        1, 1, 0, 1, 1, 1, 1, 0, 0, 1, 0, 1, 1, 0, 0, 1, 1, 0, 0, 1, 1, 1,\n",
              "        1, 0, 1, 1, 0, 0, 0, 1, 0, 1, 0, 1, 1, 1, 0, 1, 1, 0, 0, 1, 0, 0,\n",
              "        0, 0, 1, 0, 0, 0, 1, 0, 1, 0, 1, 1, 0, 1, 0, 0, 0, 0, 1, 1, 0, 0,\n",
              "        1, 1, 1, 0, 1, 1, 1, 1, 1, 0, 0, 1, 1, 0, 1, 1, 0, 0, 1, 0, 1, 1,\n",
              "        1, 1, 0, 1, 1, 1, 1, 1, 0, 1, 0, 0, 0, 0, 0, 0, 0, 0, 0, 0, 0, 0,\n",
              "        0, 0, 1, 1, 1, 1, 1, 1, 0, 1, 0, 1, 1, 0, 1, 1, 0, 1, 0, 0, 1, 1,\n",
              "        1, 1, 1, 1, 1, 1, 1, 1, 1, 1, 1, 0, 1, 1, 0, 1, 0, 1, 1, 1, 1, 1,\n",
              "        1, 1, 1, 1, 1, 1, 1, 1, 1, 0, 1, 1, 1, 0, 1, 0, 1, 1, 1, 1, 0, 0,\n",
              "        0, 1, 1, 1, 1, 0, 1, 0, 1, 0, 1, 1, 1, 0, 1, 1, 1, 1, 1, 1, 1, 0,\n",
              "        0, 0, 1, 1, 1, 1, 1, 1, 1, 1, 1, 1, 1, 0, 0, 1, 0, 0, 0, 1, 0, 0,\n",
              "        1, 1, 1, 1, 1, 0, 1, 1, 1, 1, 1, 0, 1, 1, 1, 0, 1, 1, 0, 0, 1, 1,\n",
              "        1, 1, 1, 1, 0, 1, 1, 1, 1, 1, 1, 1, 0, 1, 1, 1, 1, 1, 0, 1, 1, 0,\n",
              "        1, 1, 1, 1, 1, 1, 1, 1, 1, 1, 1, 1, 0, 1, 0, 0, 1, 0, 1, 1, 1, 1,\n",
              "        1, 0, 1, 1, 0, 1, 0, 1, 1, 0, 1, 0, 1, 1, 1, 1, 1, 1, 1, 1, 0, 0,\n",
              "        1, 1, 1, 1, 1, 1, 0, 1, 1, 1, 1, 1, 1, 1, 1, 1, 1, 0, 1, 1, 1, 1,\n",
              "        1, 1, 1, 0, 1, 0, 1, 1, 0, 1, 1, 1, 1, 1, 0, 0, 1, 0, 1, 0, 1, 1,\n",
              "        1, 1, 1, 0, 1, 1, 0, 1, 0, 1, 0, 0, 1, 1, 1, 0, 1, 1, 1, 1, 1, 1,\n",
              "        1, 1, 1, 1, 1, 0, 1, 0, 0, 1, 1, 1, 1, 1, 1, 1, 1, 1, 1, 1, 1, 1,\n",
              "        1, 1, 1, 1, 1, 1, 1, 1, 1, 1, 1, 1, 0, 0, 0, 0, 0, 0, 1]),\n",
              " 'frame': None,\n",
              " 'target_names': array(['malignant', 'benign'], dtype='<U9'),\n",
              " 'DESCR': '.. _breast_cancer_dataset:\\n\\nBreast cancer wisconsin (diagnostic) dataset\\n--------------------------------------------\\n\\n**Data Set Characteristics:**\\n\\n    :Number of Instances: 569\\n\\n    :Number of Attributes: 30 numeric, predictive attributes and the class\\n\\n    :Attribute Information:\\n        - radius (mean of distances from center to points on the perimeter)\\n        - texture (standard deviation of gray-scale values)\\n        - perimeter\\n        - area\\n        - smoothness (local variation in radius lengths)\\n        - compactness (perimeter^2 / area - 1.0)\\n        - concavity (severity of concave portions of the contour)\\n        - concave points (number of concave portions of the contour)\\n        - symmetry\\n        - fractal dimension (\"coastline approximation\" - 1)\\n\\n        The mean, standard error, and \"worst\" or largest (mean of the three\\n        worst/largest values) of these features were computed for each image,\\n        resulting in 30 features.  For instance, field 0 is Mean Radius, field\\n        10 is Radius SE, field 20 is Worst Radius.\\n\\n        - class:\\n                - WDBC-Malignant\\n                - WDBC-Benign\\n\\n    :Summary Statistics:\\n\\n    ===================================== ====== ======\\n                                           Min    Max\\n    ===================================== ====== ======\\n    radius (mean):                        6.981  28.11\\n    texture (mean):                       9.71   39.28\\n    perimeter (mean):                     43.79  188.5\\n    area (mean):                          143.5  2501.0\\n    smoothness (mean):                    0.053  0.163\\n    compactness (mean):                   0.019  0.345\\n    concavity (mean):                     0.0    0.427\\n    concave points (mean):                0.0    0.201\\n    symmetry (mean):                      0.106  0.304\\n    fractal dimension (mean):             0.05   0.097\\n    radius (standard error):              0.112  2.873\\n    texture (standard error):             0.36   4.885\\n    perimeter (standard error):           0.757  21.98\\n    area (standard error):                6.802  542.2\\n    smoothness (standard error):          0.002  0.031\\n    compactness (standard error):         0.002  0.135\\n    concavity (standard error):           0.0    0.396\\n    concave points (standard error):      0.0    0.053\\n    symmetry (standard error):            0.008  0.079\\n    fractal dimension (standard error):   0.001  0.03\\n    radius (worst):                       7.93   36.04\\n    texture (worst):                      12.02  49.54\\n    perimeter (worst):                    50.41  251.2\\n    area (worst):                         185.2  4254.0\\n    smoothness (worst):                   0.071  0.223\\n    compactness (worst):                  0.027  1.058\\n    concavity (worst):                    0.0    1.252\\n    concave points (worst):               0.0    0.291\\n    symmetry (worst):                     0.156  0.664\\n    fractal dimension (worst):            0.055  0.208\\n    ===================================== ====== ======\\n\\n    :Missing Attribute Values: None\\n\\n    :Class Distribution: 212 - Malignant, 357 - Benign\\n\\n    :Creator:  Dr. William H. Wolberg, W. Nick Street, Olvi L. Mangasarian\\n\\n    :Donor: Nick Street\\n\\n    :Date: November, 1995\\n\\nThis is a copy of UCI ML Breast Cancer Wisconsin (Diagnostic) datasets.\\nhttps://goo.gl/U2Uwz2\\n\\nFeatures are computed from a digitized image of a fine needle\\naspirate (FNA) of a breast mass.  They describe\\ncharacteristics of the cell nuclei present in the image.\\n\\nSeparating plane described above was obtained using\\nMultisurface Method-Tree (MSM-T) [K. P. Bennett, \"Decision Tree\\nConstruction Via Linear Programming.\" Proceedings of the 4th\\nMidwest Artificial Intelligence and Cognitive Science Society,\\npp. 97-101, 1992], a classification method which uses linear\\nprogramming to construct a decision tree.  Relevant features\\nwere selected using an exhaustive search in the space of 1-4\\nfeatures and 1-3 separating planes.\\n\\nThe actual linear program used to obtain the separating plane\\nin the 3-dimensional space is that described in:\\n[K. P. Bennett and O. L. Mangasarian: \"Robust Linear\\nProgramming Discrimination of Two Linearly Inseparable Sets\",\\nOptimization Methods and Software 1, 1992, 23-34].\\n\\nThis database is also available through the UW CS ftp server:\\n\\nftp ftp.cs.wisc.edu\\ncd math-prog/cpo-dataset/machine-learn/WDBC/\\n\\n.. topic:: References\\n\\n   - W.N. Street, W.H. Wolberg and O.L. Mangasarian. Nuclear feature extraction \\n     for breast tumor diagnosis. IS&T/SPIE 1993 International Symposium on \\n     Electronic Imaging: Science and Technology, volume 1905, pages 861-870,\\n     San Jose, CA, 1993.\\n   - O.L. Mangasarian, W.N. Street and W.H. Wolberg. Breast cancer diagnosis and \\n     prognosis via linear programming. Operations Research, 43(4), pages 570-577, \\n     July-August 1995.\\n   - W.H. Wolberg, W.N. Street, and O.L. Mangasarian. Machine learning techniques\\n     to diagnose breast cancer from fine-needle aspirates. Cancer Letters 77 (1994) \\n     163-171.',\n",
              " 'feature_names': array(['mean radius', 'mean texture', 'mean perimeter', 'mean area',\n",
              "        'mean smoothness', 'mean compactness', 'mean concavity',\n",
              "        'mean concave points', 'mean symmetry', 'mean fractal dimension',\n",
              "        'radius error', 'texture error', 'perimeter error', 'area error',\n",
              "        'smoothness error', 'compactness error', 'concavity error',\n",
              "        'concave points error', 'symmetry error',\n",
              "        'fractal dimension error', 'worst radius', 'worst texture',\n",
              "        'worst perimeter', 'worst area', 'worst smoothness',\n",
              "        'worst compactness', 'worst concavity', 'worst concave points',\n",
              "        'worst symmetry', 'worst fractal dimension'], dtype='<U23'),\n",
              " 'filename': 'breast_cancer.csv',\n",
              " 'data_module': 'sklearn.datasets.data'}"
            ]
          },
          "metadata": {},
          "execution_count": 33
        }
      ]
    },
    {
      "cell_type": "code",
      "source": [
        "type(data)"
      ],
      "metadata": {
        "colab": {
          "base_uri": "https://localhost:8080/"
        },
        "id": "gwecGtRo2Cb2",
        "outputId": "4d7fe77a-a94b-4246-e4ed-09cdb961f0d3"
      },
      "execution_count": null,
      "outputs": [
        {
          "output_type": "execute_result",
          "data": {
            "text/plain": [
              "sklearn.utils._bunch.Bunch"
            ]
          },
          "metadata": {},
          "execution_count": 34
        }
      ]
    },
    {
      "cell_type": "code",
      "source": [
        "data.keys()"
      ],
      "metadata": {
        "colab": {
          "base_uri": "https://localhost:8080/"
        },
        "id": "VB1nb0KG2F__",
        "outputId": "e1176378-e76e-4c84-d383-b534c2cffd53"
      },
      "execution_count": null,
      "outputs": [
        {
          "output_type": "execute_result",
          "data": {
            "text/plain": [
              "dict_keys(['data', 'target', 'frame', 'target_names', 'DESCR', 'feature_names', 'filename', 'data_module'])"
            ]
          },
          "metadata": {},
          "execution_count": 35
        }
      ]
    },
    {
      "cell_type": "code",
      "source": [
        "data.data"
      ],
      "metadata": {
        "colab": {
          "base_uri": "https://localhost:8080/"
        },
        "id": "euNJeGuM2MiU",
        "outputId": "1db0ce56-2645-4b64-89c3-9185cb7bd09c"
      },
      "execution_count": null,
      "outputs": [
        {
          "output_type": "execute_result",
          "data": {
            "text/plain": [
              "array([[1.799e+01, 1.038e+01, 1.228e+02, ..., 2.654e-01, 4.601e-01,\n",
              "        1.189e-01],\n",
              "       [2.057e+01, 1.777e+01, 1.329e+02, ..., 1.860e-01, 2.750e-01,\n",
              "        8.902e-02],\n",
              "       [1.969e+01, 2.125e+01, 1.300e+02, ..., 2.430e-01, 3.613e-01,\n",
              "        8.758e-02],\n",
              "       ...,\n",
              "       [1.660e+01, 2.808e+01, 1.083e+02, ..., 1.418e-01, 2.218e-01,\n",
              "        7.820e-02],\n",
              "       [2.060e+01, 2.933e+01, 1.401e+02, ..., 2.650e-01, 4.087e-01,\n",
              "        1.240e-01],\n",
              "       [7.760e+00, 2.454e+01, 4.792e+01, ..., 0.000e+00, 2.871e-01,\n",
              "        7.039e-02]])"
            ]
          },
          "metadata": {},
          "execution_count": 36
        }
      ]
    },
    {
      "cell_type": "code",
      "source": [
        "data.data.shape\n"
      ],
      "metadata": {
        "colab": {
          "base_uri": "https://localhost:8080/"
        },
        "id": "FtcxVHak2TLn",
        "outputId": "00e9500a-d464-48fe-bddc-dc4df62c1853"
      },
      "execution_count": null,
      "outputs": [
        {
          "output_type": "execute_result",
          "data": {
            "text/plain": [
              "(569, 30)"
            ]
          },
          "metadata": {},
          "execution_count": 37
        }
      ]
    },
    {
      "cell_type": "code",
      "source": [
        "data.feature_names"
      ],
      "metadata": {
        "colab": {
          "base_uri": "https://localhost:8080/"
        },
        "id": "g2NI8a1c2VT3",
        "outputId": "f82fe51c-8acf-40fd-b24b-e112cb8ec746"
      },
      "execution_count": null,
      "outputs": [
        {
          "output_type": "execute_result",
          "data": {
            "text/plain": [
              "array(['mean radius', 'mean texture', 'mean perimeter', 'mean area',\n",
              "       'mean smoothness', 'mean compactness', 'mean concavity',\n",
              "       'mean concave points', 'mean symmetry', 'mean fractal dimension',\n",
              "       'radius error', 'texture error', 'perimeter error', 'area error',\n",
              "       'smoothness error', 'compactness error', 'concavity error',\n",
              "       'concave points error', 'symmetry error',\n",
              "       'fractal dimension error', 'worst radius', 'worst texture',\n",
              "       'worst perimeter', 'worst area', 'worst smoothness',\n",
              "       'worst compactness', 'worst concavity', 'worst concave points',\n",
              "       'worst symmetry', 'worst fractal dimension'], dtype='<U23')"
            ]
          },
          "metadata": {},
          "execution_count": 38
        }
      ]
    },
    {
      "cell_type": "code",
      "source": [
        "from sklearn.model_selection import train_test_split"
      ],
      "metadata": {
        "id": "rfmFZhCm2hLO"
      },
      "execution_count": null,
      "outputs": []
    },
    {
      "cell_type": "code",
      "source": [
        "X_train, X_test, y_train, y_test = train_test_split(\n",
        "    data.data, data.target, test_size=0.33\n",
        ")"
      ],
      "metadata": {
        "id": "rCKe2Xrv2udW"
      },
      "execution_count": null,
      "outputs": []
    },
    {
      "cell_type": "code",
      "source": [
        "N, D = X_train.shape"
      ],
      "metadata": {
        "id": "9HqnUlqM2-NV"
      },
      "execution_count": null,
      "outputs": []
    },
    {
      "cell_type": "code",
      "source": [
        "from sklearn.preprocessing import StandardScaler"
      ],
      "metadata": {
        "id": "kFIiuf0s3NPj"
      },
      "execution_count": null,
      "outputs": []
    },
    {
      "cell_type": "code",
      "source": [
        "scaler = StandardScaler()"
      ],
      "metadata": {
        "id": "ZYe1AMAV5OLA"
      },
      "execution_count": null,
      "outputs": []
    },
    {
      "cell_type": "code",
      "source": [
        "X_train = scaler.fit_transform(X_train)\n",
        "X_test = scaler.transform(X_test)"
      ],
      "metadata": {
        "id": "sI5Q1nmT5q6V"
      },
      "execution_count": null,
      "outputs": []
    },
    {
      "cell_type": "code",
      "source": [
        "model = tf.keras.Sequential([\n",
        "    tf.keras.layers.Input(shape=(D,)),\n",
        "    tf.keras.layers.Dense(1, activation='sigmoid')\n",
        "])"
      ],
      "metadata": {
        "id": "rl2dhfZL55HC"
      },
      "execution_count": null,
      "outputs": []
    },
    {
      "cell_type": "code",
      "source": [
        "model.compile(\n",
        "    optimizer='adam',\n",
        "    loss='binary_crossentropy',\n",
        "    metrics=['accuracy']\n",
        ")"
      ],
      "metadata": {
        "id": "2GKWkbBb7MMz"
      },
      "execution_count": null,
      "outputs": []
    },
    {
      "cell_type": "code",
      "source": [
        "r = model.fit(\n",
        "    X_train, y_train, validation_data=(X_test, y_test), epochs=100\n",
        ")"
      ],
      "metadata": {
        "colab": {
          "base_uri": "https://localhost:8080/"
        },
        "id": "M9H0TC217zPN",
        "outputId": "ceeecb79-bdfc-4d6a-bfb7-a0af04f396aa"
      },
      "execution_count": null,
      "outputs": [
        {
          "output_type": "stream",
          "name": "stdout",
          "text": [
            "Epoch 1/100\n",
            "12/12 [==============================] - 1s 59ms/step - loss: 186.9276 - accuracy: 0.3517 - val_loss: 160.0102 - val_accuracy: 0.4149\n",
            "Epoch 2/100\n",
            "12/12 [==============================] - 0s 7ms/step - loss: 177.1885 - accuracy: 0.3517 - val_loss: 151.0590 - val_accuracy: 0.4149\n",
            "Epoch 3/100\n",
            "12/12 [==============================] - 0s 7ms/step - loss: 167.1317 - accuracy: 0.3517 - val_loss: 142.2868 - val_accuracy: 0.4149\n",
            "Epoch 4/100\n",
            "12/12 [==============================] - 0s 7ms/step - loss: 157.2295 - accuracy: 0.3517 - val_loss: 133.4901 - val_accuracy: 0.4149\n",
            "Epoch 5/100\n",
            "12/12 [==============================] - 0s 7ms/step - loss: 147.1328 - accuracy: 0.3517 - val_loss: 124.8098 - val_accuracy: 0.4149\n",
            "Epoch 6/100\n",
            "12/12 [==============================] - 0s 7ms/step - loss: 137.3517 - accuracy: 0.3517 - val_loss: 116.0126 - val_accuracy: 0.4149\n",
            "Epoch 7/100\n",
            "12/12 [==============================] - 0s 7ms/step - loss: 127.3651 - accuracy: 0.3517 - val_loss: 107.2565 - val_accuracy: 0.4149\n",
            "Epoch 8/100\n",
            "12/12 [==============================] - 0s 8ms/step - loss: 117.5016 - accuracy: 0.3517 - val_loss: 98.4294 - val_accuracy: 0.4149\n",
            "Epoch 9/100\n",
            "12/12 [==============================] - 0s 10ms/step - loss: 107.3416 - accuracy: 0.3517 - val_loss: 89.8124 - val_accuracy: 0.4149\n",
            "Epoch 10/100\n",
            "12/12 [==============================] - 0s 7ms/step - loss: 97.6137 - accuracy: 0.3517 - val_loss: 80.9932 - val_accuracy: 0.4149\n",
            "Epoch 11/100\n",
            "12/12 [==============================] - 0s 8ms/step - loss: 87.5528 - accuracy: 0.3517 - val_loss: 72.2812 - val_accuracy: 0.4149\n",
            "Epoch 12/100\n",
            "12/12 [==============================] - 0s 6ms/step - loss: 77.6103 - accuracy: 0.3517 - val_loss: 63.5747 - val_accuracy: 0.4149\n",
            "Epoch 13/100\n",
            "12/12 [==============================] - 0s 7ms/step - loss: 67.7039 - accuracy: 0.3517 - val_loss: 54.8020 - val_accuracy: 0.4149\n",
            "Epoch 14/100\n",
            "12/12 [==============================] - 0s 8ms/step - loss: 57.8340 - accuracy: 0.3517 - val_loss: 45.9709 - val_accuracy: 0.4149\n",
            "Epoch 15/100\n",
            "12/12 [==============================] - 0s 8ms/step - loss: 47.7092 - accuracy: 0.3517 - val_loss: 37.3112 - val_accuracy: 0.4149\n",
            "Epoch 16/100\n",
            "12/12 [==============================] - 0s 7ms/step - loss: 37.8623 - accuracy: 0.3517 - val_loss: 28.5336 - val_accuracy: 0.4149\n",
            "Epoch 17/100\n",
            "12/12 [==============================] - 0s 8ms/step - loss: 27.9927 - accuracy: 0.3517 - val_loss: 19.6897 - val_accuracy: 0.4149\n",
            "Epoch 18/100\n",
            "12/12 [==============================] - 0s 8ms/step - loss: 18.1538 - accuracy: 0.3491 - val_loss: 11.0720 - val_accuracy: 0.4149\n",
            "Epoch 19/100\n",
            "12/12 [==============================] - 0s 8ms/step - loss: 9.0036 - accuracy: 0.3622 - val_loss: 2.8297 - val_accuracy: 0.4202\n",
            "Epoch 20/100\n",
            "12/12 [==============================] - 0s 6ms/step - loss: 3.1806 - accuracy: 0.5906 - val_loss: 2.3424 - val_accuracy: 0.7234\n",
            "Epoch 21/100\n",
            "12/12 [==============================] - 0s 6ms/step - loss: 3.4091 - accuracy: 0.7218 - val_loss: 1.8629 - val_accuracy: 0.7287\n",
            "Epoch 22/100\n",
            "12/12 [==============================] - 0s 5ms/step - loss: 2.9262 - accuracy: 0.6089 - val_loss: 1.5703 - val_accuracy: 0.6383\n",
            "Epoch 23/100\n",
            "12/12 [==============================] - 0s 6ms/step - loss: 2.8252 - accuracy: 0.5774 - val_loss: 1.4972 - val_accuracy: 0.6968\n",
            "Epoch 24/100\n",
            "12/12 [==============================] - 0s 5ms/step - loss: 2.6978 - accuracy: 0.6667 - val_loss: 1.4879 - val_accuracy: 0.7394\n",
            "Epoch 25/100\n",
            "12/12 [==============================] - 0s 5ms/step - loss: 2.6240 - accuracy: 0.7008 - val_loss: 1.4186 - val_accuracy: 0.7447\n",
            "Epoch 26/100\n",
            "12/12 [==============================] - 0s 6ms/step - loss: 2.5462 - accuracy: 0.6824 - val_loss: 1.3406 - val_accuracy: 0.7287\n",
            "Epoch 27/100\n",
            "12/12 [==============================] - 0s 5ms/step - loss: 2.5002 - accuracy: 0.6693 - val_loss: 1.3045 - val_accuracy: 0.7553\n",
            "Epoch 28/100\n",
            "12/12 [==============================] - 0s 6ms/step - loss: 2.4145 - accuracy: 0.7034 - val_loss: 1.2465 - val_accuracy: 0.7606\n",
            "Epoch 29/100\n",
            "12/12 [==============================] - 0s 5ms/step - loss: 2.3474 - accuracy: 0.6955 - val_loss: 1.2021 - val_accuracy: 0.7766\n",
            "Epoch 30/100\n",
            "12/12 [==============================] - 0s 7ms/step - loss: 2.3106 - accuracy: 0.6719 - val_loss: 1.1316 - val_accuracy: 0.7447\n",
            "Epoch 31/100\n",
            "12/12 [==============================] - 0s 5ms/step - loss: 2.2248 - accuracy: 0.6955 - val_loss: 1.1435 - val_accuracy: 0.7819\n",
            "Epoch 32/100\n",
            "12/12 [==============================] - 0s 5ms/step - loss: 2.1798 - accuracy: 0.7454 - val_loss: 1.0946 - val_accuracy: 0.7819\n",
            "Epoch 33/100\n",
            "12/12 [==============================] - 0s 5ms/step - loss: 2.1429 - accuracy: 0.7507 - val_loss: 1.0517 - val_accuracy: 0.7819\n",
            "Epoch 34/100\n",
            "12/12 [==============================] - 0s 5ms/step - loss: 2.1350 - accuracy: 0.6877 - val_loss: 0.9712 - val_accuracy: 0.7766\n",
            "Epoch 35/100\n",
            "12/12 [==============================] - 0s 7ms/step - loss: 2.0375 - accuracy: 0.7244 - val_loss: 0.9743 - val_accuracy: 0.7979\n",
            "Epoch 36/100\n",
            "12/12 [==============================] - 0s 7ms/step - loss: 2.0100 - accuracy: 0.7507 - val_loss: 0.9599 - val_accuracy: 0.8245\n",
            "Epoch 37/100\n",
            "12/12 [==============================] - 0s 5ms/step - loss: 1.9646 - accuracy: 0.7454 - val_loss: 0.8839 - val_accuracy: 0.7926\n",
            "Epoch 38/100\n",
            "12/12 [==============================] - 0s 5ms/step - loss: 1.9286 - accuracy: 0.7349 - val_loss: 0.8512 - val_accuracy: 0.7926\n",
            "Epoch 39/100\n",
            "12/12 [==============================] - 0s 6ms/step - loss: 1.9133 - accuracy: 0.7664 - val_loss: 0.8442 - val_accuracy: 0.8245\n",
            "Epoch 40/100\n",
            "12/12 [==============================] - 0s 5ms/step - loss: 1.8391 - accuracy: 0.7585 - val_loss: 0.7889 - val_accuracy: 0.8032\n",
            "Epoch 41/100\n",
            "12/12 [==============================] - 0s 5ms/step - loss: 1.8034 - accuracy: 0.7559 - val_loss: 0.7664 - val_accuracy: 0.8351\n",
            "Epoch 42/100\n",
            "12/12 [==============================] - 0s 5ms/step - loss: 1.7763 - accuracy: 0.7585 - val_loss: 0.7500 - val_accuracy: 0.8351\n",
            "Epoch 43/100\n",
            "12/12 [==============================] - 0s 7ms/step - loss: 1.7352 - accuracy: 0.7874 - val_loss: 0.7357 - val_accuracy: 0.8404\n",
            "Epoch 44/100\n",
            "12/12 [==============================] - 0s 6ms/step - loss: 1.7132 - accuracy: 0.7585 - val_loss: 0.6817 - val_accuracy: 0.8191\n",
            "Epoch 45/100\n",
            "12/12 [==============================] - 0s 5ms/step - loss: 1.6557 - accuracy: 0.7743 - val_loss: 0.6760 - val_accuracy: 0.8564\n",
            "Epoch 46/100\n",
            "12/12 [==============================] - 0s 5ms/step - loss: 1.6246 - accuracy: 0.7900 - val_loss: 0.6488 - val_accuracy: 0.8564\n",
            "Epoch 47/100\n",
            "12/12 [==============================] - 0s 5ms/step - loss: 1.5942 - accuracy: 0.7979 - val_loss: 0.6322 - val_accuracy: 0.8670\n",
            "Epoch 48/100\n",
            "12/12 [==============================] - 0s 6ms/step - loss: 1.5587 - accuracy: 0.8058 - val_loss: 0.6163 - val_accuracy: 0.8830\n",
            "Epoch 49/100\n",
            "12/12 [==============================] - 0s 7ms/step - loss: 1.5182 - accuracy: 0.7953 - val_loss: 0.5909 - val_accuracy: 0.8564\n",
            "Epoch 50/100\n",
            "12/12 [==============================] - 0s 5ms/step - loss: 1.4907 - accuracy: 0.7900 - val_loss: 0.5787 - val_accuracy: 0.8777\n",
            "Epoch 51/100\n",
            "12/12 [==============================] - 0s 5ms/step - loss: 1.4690 - accuracy: 0.8110 - val_loss: 0.5666 - val_accuracy: 0.8830\n",
            "Epoch 52/100\n",
            "12/12 [==============================] - 0s 5ms/step - loss: 1.4378 - accuracy: 0.7848 - val_loss: 0.5435 - val_accuracy: 0.8670\n",
            "Epoch 53/100\n",
            "12/12 [==============================] - 0s 6ms/step - loss: 1.4124 - accuracy: 0.7979 - val_loss: 0.5483 - val_accuracy: 0.8830\n",
            "Epoch 54/100\n",
            "12/12 [==============================] - 0s 6ms/step - loss: 1.3741 - accuracy: 0.8215 - val_loss: 0.5191 - val_accuracy: 0.8777\n",
            "Epoch 55/100\n",
            "12/12 [==============================] - 0s 5ms/step - loss: 1.3539 - accuracy: 0.7900 - val_loss: 0.5015 - val_accuracy: 0.8670\n",
            "Epoch 56/100\n",
            "12/12 [==============================] - 0s 6ms/step - loss: 1.3146 - accuracy: 0.7848 - val_loss: 0.4952 - val_accuracy: 0.8830\n",
            "Epoch 57/100\n",
            "12/12 [==============================] - 0s 5ms/step - loss: 1.3035 - accuracy: 0.8399 - val_loss: 0.5036 - val_accuracy: 0.8883\n",
            "Epoch 58/100\n",
            "12/12 [==============================] - 0s 5ms/step - loss: 1.2660 - accuracy: 0.8215 - val_loss: 0.4643 - val_accuracy: 0.8670\n",
            "Epoch 59/100\n",
            "12/12 [==============================] - 0s 5ms/step - loss: 1.2425 - accuracy: 0.8058 - val_loss: 0.4544 - val_accuracy: 0.8723\n",
            "Epoch 60/100\n",
            "12/12 [==============================] - 0s 6ms/step - loss: 1.2128 - accuracy: 0.8294 - val_loss: 0.4485 - val_accuracy: 0.8883\n",
            "Epoch 61/100\n",
            "12/12 [==============================] - 0s 6ms/step - loss: 1.1988 - accuracy: 0.8373 - val_loss: 0.4437 - val_accuracy: 0.8883\n",
            "Epoch 62/100\n",
            "12/12 [==============================] - 0s 5ms/step - loss: 1.1710 - accuracy: 0.8163 - val_loss: 0.4213 - val_accuracy: 0.8777\n",
            "Epoch 63/100\n",
            "12/12 [==============================] - 0s 6ms/step - loss: 1.1490 - accuracy: 0.8294 - val_loss: 0.4322 - val_accuracy: 0.9043\n",
            "Epoch 64/100\n",
            "12/12 [==============================] - 0s 6ms/step - loss: 1.1285 - accuracy: 0.8504 - val_loss: 0.4169 - val_accuracy: 0.8989\n",
            "Epoch 65/100\n",
            "12/12 [==============================] - 0s 5ms/step - loss: 1.1146 - accuracy: 0.8373 - val_loss: 0.3954 - val_accuracy: 0.8830\n",
            "Epoch 66/100\n",
            "12/12 [==============================] - 0s 5ms/step - loss: 1.0785 - accuracy: 0.8478 - val_loss: 0.3974 - val_accuracy: 0.8989\n",
            "Epoch 67/100\n",
            "12/12 [==============================] - 0s 6ms/step - loss: 1.0639 - accuracy: 0.8530 - val_loss: 0.3866 - val_accuracy: 0.8989\n",
            "Epoch 68/100\n",
            "12/12 [==============================] - 0s 6ms/step - loss: 1.0664 - accuracy: 0.8241 - val_loss: 0.3732 - val_accuracy: 0.8883\n",
            "Epoch 69/100\n",
            "12/12 [==============================] - 0s 5ms/step - loss: 1.0156 - accuracy: 0.8504 - val_loss: 0.3793 - val_accuracy: 0.9149\n",
            "Epoch 70/100\n",
            "12/12 [==============================] - 0s 5ms/step - loss: 1.0294 - accuracy: 0.8661 - val_loss: 0.3720 - val_accuracy: 0.9149\n",
            "Epoch 71/100\n",
            "12/12 [==============================] - 0s 6ms/step - loss: 0.9871 - accuracy: 0.8478 - val_loss: 0.3531 - val_accuracy: 0.8883\n",
            "Epoch 72/100\n",
            "12/12 [==============================] - 0s 6ms/step - loss: 0.9795 - accuracy: 0.8635 - val_loss: 0.3657 - val_accuracy: 0.9202\n",
            "Epoch 73/100\n",
            "12/12 [==============================] - 0s 5ms/step - loss: 0.9593 - accuracy: 0.8609 - val_loss: 0.3400 - val_accuracy: 0.8883\n",
            "Epoch 74/100\n",
            "12/12 [==============================] - 0s 5ms/step - loss: 0.9356 - accuracy: 0.8609 - val_loss: 0.3414 - val_accuracy: 0.9149\n",
            "Epoch 75/100\n",
            "12/12 [==============================] - 0s 5ms/step - loss: 0.9265 - accuracy: 0.8609 - val_loss: 0.3298 - val_accuracy: 0.8989\n",
            "Epoch 76/100\n",
            "12/12 [==============================] - 0s 6ms/step - loss: 0.8981 - accuracy: 0.8661 - val_loss: 0.3328 - val_accuracy: 0.9202\n",
            "Epoch 77/100\n",
            "12/12 [==============================] - 0s 5ms/step - loss: 0.8933 - accuracy: 0.8661 - val_loss: 0.3216 - val_accuracy: 0.9149\n",
            "Epoch 78/100\n",
            "12/12 [==============================] - 0s 6ms/step - loss: 0.8891 - accuracy: 0.8740 - val_loss: 0.3178 - val_accuracy: 0.9149\n",
            "Epoch 79/100\n",
            "12/12 [==============================] - 0s 5ms/step - loss: 0.8586 - accuracy: 0.8583 - val_loss: 0.3082 - val_accuracy: 0.8936\n",
            "Epoch 80/100\n",
            "12/12 [==============================] - 0s 6ms/step - loss: 0.8384 - accuracy: 0.8635 - val_loss: 0.3151 - val_accuracy: 0.9202\n",
            "Epoch 81/100\n",
            "12/12 [==============================] - 0s 6ms/step - loss: 0.8228 - accuracy: 0.8740 - val_loss: 0.3091 - val_accuracy: 0.9202\n",
            "Epoch 82/100\n",
            "12/12 [==============================] - 0s 5ms/step - loss: 0.8323 - accuracy: 0.8583 - val_loss: 0.2984 - val_accuracy: 0.9043\n",
            "Epoch 83/100\n",
            "12/12 [==============================] - 0s 5ms/step - loss: 0.8013 - accuracy: 0.8688 - val_loss: 0.3115 - val_accuracy: 0.9255\n",
            "Epoch 84/100\n",
            "12/12 [==============================] - 0s 6ms/step - loss: 0.7889 - accuracy: 0.8714 - val_loss: 0.2920 - val_accuracy: 0.9096\n",
            "Epoch 85/100\n",
            "12/12 [==============================] - 0s 5ms/step - loss: 0.7711 - accuracy: 0.8609 - val_loss: 0.2888 - val_accuracy: 0.9255\n",
            "Epoch 86/100\n",
            "12/12 [==============================] - 0s 5ms/step - loss: 0.7603 - accuracy: 0.8845 - val_loss: 0.2963 - val_accuracy: 0.9309\n",
            "Epoch 87/100\n",
            "12/12 [==============================] - 0s 6ms/step - loss: 0.7427 - accuracy: 0.8714 - val_loss: 0.2840 - val_accuracy: 0.9149\n",
            "Epoch 88/100\n",
            "12/12 [==============================] - 0s 6ms/step - loss: 0.7226 - accuracy: 0.8688 - val_loss: 0.2866 - val_accuracy: 0.9309\n",
            "Epoch 89/100\n",
            "12/12 [==============================] - 0s 6ms/step - loss: 0.7111 - accuracy: 0.8740 - val_loss: 0.2788 - val_accuracy: 0.9255\n",
            "Epoch 90/100\n",
            "12/12 [==============================] - 0s 6ms/step - loss: 0.7083 - accuracy: 0.8688 - val_loss: 0.2763 - val_accuracy: 0.9309\n",
            "Epoch 91/100\n",
            "12/12 [==============================] - 0s 5ms/step - loss: 0.6760 - accuracy: 0.8845 - val_loss: 0.2842 - val_accuracy: 0.9362\n",
            "Epoch 92/100\n",
            "12/12 [==============================] - 0s 6ms/step - loss: 0.6672 - accuracy: 0.8819 - val_loss: 0.2735 - val_accuracy: 0.9415\n",
            "Epoch 93/100\n",
            "12/12 [==============================] - 0s 5ms/step - loss: 0.6654 - accuracy: 0.8740 - val_loss: 0.2717 - val_accuracy: 0.9309\n",
            "Epoch 94/100\n",
            "12/12 [==============================] - 0s 6ms/step - loss: 0.6541 - accuracy: 0.8819 - val_loss: 0.2717 - val_accuracy: 0.9468\n",
            "Epoch 95/100\n",
            "12/12 [==============================] - 0s 6ms/step - loss: 0.6379 - accuracy: 0.8845 - val_loss: 0.2688 - val_accuracy: 0.9415\n",
            "Epoch 96/100\n",
            "12/12 [==============================] - 0s 5ms/step - loss: 0.6300 - accuracy: 0.8714 - val_loss: 0.2685 - val_accuracy: 0.9255\n",
            "Epoch 97/100\n",
            "12/12 [==============================] - 0s 6ms/step - loss: 0.6162 - accuracy: 0.8819 - val_loss: 0.2710 - val_accuracy: 0.9415\n",
            "Epoch 98/100\n",
            "12/12 [==============================] - 0s 6ms/step - loss: 0.6255 - accuracy: 0.8793 - val_loss: 0.2647 - val_accuracy: 0.9309\n",
            "Epoch 99/100\n",
            "12/12 [==============================] - 0s 5ms/step - loss: 0.6075 - accuracy: 0.8871 - val_loss: 0.2705 - val_accuracy: 0.9415\n",
            "Epoch 100/100\n",
            "12/12 [==============================] - 0s 5ms/step - loss: 0.6022 - accuracy: 0.8766 - val_loss: 0.2631 - val_accuracy: 0.9309\n"
          ]
        }
      ]
    },
    {
      "cell_type": "code",
      "source": [
        "print(\"Train score \", model.evaluate(X_train, y_train))\n",
        "print(\"Tetst score \", model.evaluate(X_test, y_test))"
      ],
      "metadata": {
        "colab": {
          "base_uri": "https://localhost:8080/"
        },
        "id": "geMEOuiL8qjg",
        "outputId": "d5a4d24e-b0c4-4fe4-8c54-41d5fb5d6a1c"
      },
      "execution_count": null,
      "outputs": [
        {
          "output_type": "stream",
          "name": "stdout",
          "text": [
            "12/12 [==============================] - 0s 2ms/step - loss: 0.5828 - accuracy: 0.8714\n",
            "Train score  [0.5827987790107727, 0.8713910579681396]\n",
            "6/6 [==============================] - 0s 3ms/step - loss: 0.2631 - accuracy: 0.9309\n",
            "Tetst score  [0.26314401626586914, 0.9308510422706604]\n"
          ]
        }
      ]
    },
    {
      "cell_type": "code",
      "source": [
        "import matplotlib.pyplot as plt"
      ],
      "metadata": {
        "id": "b3Cruf4d_Zp8"
      },
      "execution_count": null,
      "outputs": []
    },
    {
      "cell_type": "code",
      "source": [
        "plt.plot(r.history['loss'], label='loss')\n",
        "plt.plot(r.history['val_loss'], label='val_loss')\n",
        "plt.legend()"
      ],
      "metadata": {
        "colab": {
          "base_uri": "https://localhost:8080/",
          "height": 447
        },
        "id": "47Lmw_jg_jm_",
        "outputId": "3e3a1a96-52be-4084-f1b5-4dae2466ef25"
      },
      "execution_count": null,
      "outputs": [
        {
          "output_type": "execute_result",
          "data": {
            "text/plain": [
              "<matplotlib.legend.Legend at 0x7fb21cfec310>"
            ]
          },
          "metadata": {},
          "execution_count": 53
        },
        {
          "output_type": "display_data",
          "data": {
            "text/plain": [
              "<Figure size 640x480 with 1 Axes>"
            ],
            "image/png": "[encoded data removed]"
          },
          "metadata": {}
        }
      ]
    },
    {
      "cell_type": "code",
      "source": [],
      "metadata": {
        "id": "W8Rm-Scx_wnd"
      },
      "execution_count": null,
      "outputs": []
    }
  ]
}