{
  "nbformat": 4,
  "nbformat_minor": 0,
  "metadata": {
    "colab": {
      "provenance": [],
      "authorship_tag": "ABX9TyMBeg9mGKpU8XMv9quWGAZR",
      "include_colab_link": true
    },
    "kernelspec": {
      "name": "python3",
      "display_name": "Python 3"
    },
    "language_info": {
      "name": "python"
    }
  },
  "cells": [
    {
      "cell_type": "markdown",
      "metadata": {
        "id": "view-in-github",
        "colab_type": "text"
      },
      "source": [
        "<a href=\"https://colab.research.google.com/github/nikhilkalghatgi/learning/blob/main/Transistor_count.ipynb\" target=\"_parent\"><img src=\"https://colab.research.google.com/assets/colab-badge.svg\" alt=\"Open In Colab\"/></a>"
      ]
    },
    {
      "cell_type": "markdown",
      "source": [
        "Transistor count doubles every 2 years, ie its an exponential curve. We need to predict the count "
      ],
      "metadata": {
        "id": "5L8nnpaPvwZV"
      }
    },
    {
      "cell_type": "code",
      "execution_count": 1,
      "metadata": {
        "id": "N5X5iOG3l771"
      },
      "outputs": [],
      "source": [
        "import tensorflow as tf\n",
        "import numpy as np\n",
        "import pandas as pd"
      ]
    },
    {
      "cell_type": "code",
      "source": [
        "import matplotlib.pyplot as plt"
      ],
      "metadata": {
        "id": "HRul5SIKmw_p"
      },
      "execution_count": 2,
      "outputs": []
    },
    {
      "cell_type": "code",
      "source": [
        "!wget https://raw.githubusercontent.com/lazyprogrammer/machine_learning_examples/master/tf2.0/moore.csv"
      ],
      "metadata": {
        "colab": {
          "base_uri": "https://localhost:8080/"
        },
        "id": "5tS7iy2Xm0cT",
        "outputId": "024ca26c-f147-4625-fcfa-21b4d5cbc82a"
      },
      "execution_count": 3,
      "outputs": [
        {
          "output_type": "stream",
          "name": "stdout",
          "text": [
            "--2023-04-07 16:45:13--  https://raw.githubusercontent.com/lazyprogrammer/machine_learning_examples/master/tf2.0/moore.csv\n",
            "Resolving raw.githubusercontent.com (raw.githubusercontent.com)... 185.199.108.133, 185.199.109.133, 185.199.110.133, ...\n",
            "Connecting to raw.githubusercontent.com (raw.githubusercontent.com)|185.199.108.133|:443... connected.\n",
            "HTTP request sent, awaiting response... 200 OK\n",
            "Length: 2302 (2.2K) [text/plain]\n",
            "Saving to: ‘moore.csv’\n",
            "\n",
            "\rmoore.csv             0%[                    ]       0  --.-KB/s               \rmoore.csv           100%[===================>]   2.25K  --.-KB/s    in 0s      \n",
            "\n",
            "2023-04-07 16:45:13 (52.1 MB/s) - ‘moore.csv’ saved [2302/2302]\n",
            "\n"
          ]
        }
      ]
    },
    {
      "cell_type": "markdown",
      "source": [],
      "metadata": {
        "id": "xpBB3mJTvhEv"
      }
    },
    {
      "cell_type": "code",
      "source": [
        "data = pd.read_csv('moore.csv', header=None).to_numpy()"
      ],
      "metadata": {
        "id": "aulPMTdXm5GV"
      },
      "execution_count": 5,
      "outputs": []
    },
    {
      "cell_type": "code",
      "source": [
        "X = data[:,0].reshape(-1,1)          # X is 1D array but ML algo expects NxD array, so this just puts each element as an 1x1 array"
      ],
      "metadata": {
        "id": "jWCHhx3Cn0Zr"
      },
      "execution_count": 6,
      "outputs": []
    },
    {
      "cell_type": "code",
      "source": [
        "X"
      ],
      "metadata": {
        "colab": {
          "base_uri": "https://localhost:8080/"
        },
        "id": "Rg_auTxNn7wY",
        "outputId": "7db38374-79cf-4d1a-cba7-f9e004106107"
      },
      "execution_count": 8,
      "outputs": [
        {
          "output_type": "execute_result",
          "data": {
            "text/plain": [
              "array([[1971],\n",
              "       [1972],\n",
              "       [1973],\n",
              "       [1973],\n",
              "       [1974],\n",
              "       [1974],\n",
              "       [1974],\n",
              "       [1975],\n",
              "       [1976],\n",
              "       [1976],\n",
              "       [1976],\n",
              "       [1978],\n",
              "       [1978],\n",
              "       [1979],\n",
              "       [1979],\n",
              "       [1979],\n",
              "       [1981],\n",
              "       [1982],\n",
              "       [1982],\n",
              "       [1983],\n",
              "       [1984],\n",
              "       [1984],\n",
              "       [1985],\n",
              "       [1985],\n",
              "       [1985],\n",
              "       [1986],\n",
              "       [1986],\n",
              "       [1986],\n",
              "       [1987],\n",
              "       [1987],\n",
              "       [1987],\n",
              "       [1987],\n",
              "       [1988],\n",
              "       [1988],\n",
              "       [1989],\n",
              "       [1989],\n",
              "       [1989],\n",
              "       [1989],\n",
              "       [1990],\n",
              "       [1991],\n",
              "       [1991],\n",
              "       [1992],\n",
              "       [1992],\n",
              "       [1993],\n",
              "       [1993],\n",
              "       [1994],\n",
              "       [1994],\n",
              "       [1995],\n",
              "       [1999],\n",
              "       [1995],\n",
              "       [1996],\n",
              "       [1997],\n",
              "       [1997],\n",
              "       [1997],\n",
              "       [1998],\n",
              "       [1999],\n",
              "       [1999],\n",
              "       [2000],\n",
              "       [2000],\n",
              "       [1999],\n",
              "       [1999],\n",
              "       [1999],\n",
              "       [2000],\n",
              "       [2001],\n",
              "       [2001],\n",
              "       [2002],\n",
              "       [2004],\n",
              "       [2004],\n",
              "       [2005],\n",
              "       [2006],\n",
              "       [2005],\n",
              "       [2006],\n",
              "       [2007],\n",
              "       [2008],\n",
              "       [2003],\n",
              "       [2003],\n",
              "       [2002],\n",
              "       [2005],\n",
              "       [2005],\n",
              "       [2006],\n",
              "       [2007],\n",
              "       [2003],\n",
              "       [2008],\n",
              "       [2009],\n",
              "       [2011],\n",
              "       [2012],\n",
              "       [2007],\n",
              "       [2007],\n",
              "       [2008],\n",
              "       [2004],\n",
              "       [2007],\n",
              "       [2008],\n",
              "       [2008],\n",
              "       [2007],\n",
              "       [2009],\n",
              "       [2010],\n",
              "       [2012],\n",
              "       [2013],\n",
              "       [2011],\n",
              "       [2010],\n",
              "       [2010],\n",
              "       [2012],\n",
              "       [2012],\n",
              "       [2010],\n",
              "       [2012],\n",
              "       [2014],\n",
              "       [2006],\n",
              "       [2015],\n",
              "       [2013],\n",
              "       [2015],\n",
              "       [2008],\n",
              "       [2010],\n",
              "       [2014],\n",
              "       [2015],\n",
              "       [2015],\n",
              "       [2012],\n",
              "       [2011],\n",
              "       [2010],\n",
              "       [2014],\n",
              "       [2011],\n",
              "       [2012],\n",
              "       [2014],\n",
              "       [2016],\n",
              "       [2017],\n",
              "       [2017],\n",
              "       [2018],\n",
              "       [2012],\n",
              "       [2016],\n",
              "       [2016],\n",
              "       [2015],\n",
              "       [2013],\n",
              "       [2017],\n",
              "       [2014],\n",
              "       [2017],\n",
              "       [2017],\n",
              "       [2017],\n",
              "       [2012],\n",
              "       [2013],\n",
              "       [2014],\n",
              "       [2017],\n",
              "       [2018],\n",
              "       [2016],\n",
              "       [2018],\n",
              "       [2017],\n",
              "       [2018],\n",
              "       [2017],\n",
              "       [2015],\n",
              "       [2017],\n",
              "       [2016],\n",
              "       [2017],\n",
              "       [2016],\n",
              "       [2017],\n",
              "       [2017],\n",
              "       [2015],\n",
              "       [2017],\n",
              "       [2018],\n",
              "       [2017],\n",
              "       [2017],\n",
              "       [2017],\n",
              "       [2018],\n",
              "       [2018],\n",
              "       [2018]])"
            ]
          },
          "metadata": {},
          "execution_count": 8
        }
      ]
    },
    {
      "cell_type": "code",
      "source": [
        "Y = data[:,1]        # Y is target so no need to reshape"
      ],
      "metadata": {
        "id": "Qx2-8OjNn8qe"
      },
      "execution_count": 9,
      "outputs": []
    },
    {
      "cell_type": "code",
      "source": [
        "Y = np.log(Y)   # cuz Y increases exponentially in this case, taking log will make it linear"
      ],
      "metadata": {
        "id": "B-DhZ__FoS1K"
      },
      "execution_count": 10,
      "outputs": []
    },
    {
      "cell_type": "code",
      "source": [
        "plt.scatter(X,Y)"
      ],
      "metadata": {
        "colab": {
          "base_uri": "https://localhost:8080/",
          "height": 447
        },
        "id": "cXIOJTt-pOlb",
        "outputId": "4f386e18-1407-4f6f-c5ab-3a8f6999d892"
      },
      "execution_count": 11,
      "outputs": [
        {
          "output_type": "execute_result",
          "data": {
            "text/plain": [
              "<matplotlib.collections.PathCollection at 0x7f950f51a610>"
            ]
          },
          "metadata": {},
          "execution_count": 11
        },
        {
          "output_type": "display_data",
          "data": {
            "text/plain": [
              "<Figure size 640x480 with 1 Axes>"
            ],
            "image/png": "[encoded data removed]"
          },
          "metadata": {}
        }
      ]
    },
    {
      "cell_type": "code",
      "source": [
        "X = X - X.mean()"
      ],
      "metadata": {
        "id": "vZSaLwCupUsv"
      },
      "execution_count": 12,
      "outputs": []
    },
    {
      "cell_type": "code",
      "source": [
        "model = tf.keras.models.Sequential([\n",
        "    tf.keras.layers.Input(shape=(1,)),   # cuz D = 1, ie 1 feature in each sample\n",
        "    tf.keras.layers.Dense(1)              # output shape is 1 cuz we have 1 o/p ie the predicted value\n",
        "])"
      ],
      "metadata": {
        "id": "7nug9znRpo-A"
      },
      "execution_count": 14,
      "outputs": []
    },
    {
      "cell_type": "code",
      "source": [
        "model.compile(\n",
        "    optimizer=tf.keras.optimizers.SGD(0.001,0.9),    # TODO: wth is this? he said if we have scaled data then adam could be used\n",
        "    loss='mse',\n",
        ")"
      ],
      "metadata": {
        "id": "UhtmC1UJqqEG"
      },
      "execution_count": 15,
      "outputs": []
    },
    {
      "cell_type": "code",
      "source": [
        "def schedule(epoch, lr):    # adam optimizer does this automatically but since we use SGD we need to do this\n",
        "  if epoch >= 50:\n",
        "    return 0.0001\n",
        "  return 0.001\n",
        "\n",
        "scheduler = tf.keras.callbacks.LearningRateScheduler(schedule)"
      ],
      "metadata": {
        "id": "yPQ1Vjx6s0AX"
      },
      "execution_count": 16,
      "outputs": []
    },
    {
      "cell_type": "code",
      "source": [
        "r = model.fit(X, Y, epochs=200, callbacks=[scheduler])  # epoch value is got by trail and error"
      ],
      "metadata": {
        "colab": {
          "base_uri": "https://localhost:8080/"
        },
        "id": "JR1bvsRUtPaQ",
        "outputId": "40590383-f718-4ab9-aba6-5af1b46a452e"
      },
      "execution_count": 18,
      "outputs": [
        {
          "output_type": "stream",
          "name": "stdout",
          "text": [
            "Epoch 1/200\n",
            "6/6 [==============================] - 0s 3ms/step - loss: 546.5969 - lr: 0.0010\n",
            "Epoch 2/200\n",
            "6/6 [==============================] - 0s 3ms/step - loss: 533.6687 - lr: 0.0010\n",
            "Epoch 3/200\n",
            "6/6 [==============================] - 0s 2ms/step - loss: 358.2908 - lr: 0.0010\n",
            "Epoch 4/200\n",
            "6/6 [==============================] - 0s 2ms/step - loss: 404.7419 - lr: 0.0010\n",
            "Epoch 5/200\n",
            "6/6 [==============================] - 0s 2ms/step - loss: 393.0276 - lr: 0.0010\n",
            "Epoch 6/200\n",
            "6/6 [==============================] - 0s 3ms/step - loss: 307.9353 - lr: 0.0010\n",
            "Epoch 7/200\n",
            "6/6 [==============================] - 0s 2ms/step - loss: 303.2440 - lr: 0.0010\n",
            "Epoch 8/200\n",
            "6/6 [==============================] - 0s 2ms/step - loss: 160.6785 - lr: 0.0010\n",
            "Epoch 9/200\n",
            "6/6 [==============================] - 0s 3ms/step - loss: 190.8110 - lr: 0.0010\n",
            "Epoch 10/200\n",
            "6/6 [==============================] - 0s 2ms/step - loss: 74.4076 - lr: 0.0010\n",
            "Epoch 11/200\n",
            "6/6 [==============================] - 0s 3ms/step - loss: 43.3930 - lr: 0.0010\n",
            "Epoch 12/200\n",
            "6/6 [==============================] - 0s 2ms/step - loss: 37.0942 - lr: 0.0010\n",
            "Epoch 13/200\n",
            "6/6 [==============================] - 0s 2ms/step - loss: 39.3746 - lr: 0.0010\n",
            "Epoch 14/200\n",
            "6/6 [==============================] - 0s 2ms/step - loss: 13.3950 - lr: 0.0010\n",
            "Epoch 15/200\n",
            "6/6 [==============================] - 0s 2ms/step - loss: 9.0311 - lr: 0.0010\n",
            "Epoch 16/200\n",
            "6/6 [==============================] - 0s 2ms/step - loss: 7.0208 - lr: 0.0010\n",
            "Epoch 17/200\n",
            "6/6 [==============================] - 0s 2ms/step - loss: 4.9796 - lr: 0.0010\n",
            "Epoch 18/200\n",
            "6/6 [==============================] - 0s 2ms/step - loss: 3.6099 - lr: 0.0010\n",
            "Epoch 19/200\n",
            "6/6 [==============================] - 0s 2ms/step - loss: 3.1197 - lr: 0.0010\n",
            "Epoch 20/200\n",
            "6/6 [==============================] - 0s 2ms/step - loss: 3.2105 - lr: 0.0010\n",
            "Epoch 21/200\n",
            "6/6 [==============================] - 0s 2ms/step - loss: 2.3341 - lr: 0.0010\n",
            "Epoch 22/200\n",
            "6/6 [==============================] - 0s 2ms/step - loss: 2.1939 - lr: 0.0010\n",
            "Epoch 23/200\n",
            "6/6 [==============================] - 0s 2ms/step - loss: 2.3459 - lr: 0.0010\n",
            "Epoch 24/200\n",
            "6/6 [==============================] - 0s 2ms/step - loss: 2.0333 - lr: 0.0010\n",
            "Epoch 25/200\n",
            "6/6 [==============================] - 0s 2ms/step - loss: 1.7497 - lr: 0.0010\n",
            "Epoch 26/200\n",
            "6/6 [==============================] - 0s 2ms/step - loss: 1.3682 - lr: 0.0010\n",
            "Epoch 27/200\n",
            "6/6 [==============================] - 0s 2ms/step - loss: 1.3278 - lr: 0.0010\n",
            "Epoch 28/200\n",
            "6/6 [==============================] - 0s 2ms/step - loss: 1.2122 - lr: 0.0010\n",
            "Epoch 29/200\n",
            "6/6 [==============================] - 0s 2ms/step - loss: 0.9895 - lr: 0.0010\n",
            "Epoch 30/200\n",
            "6/6 [==============================] - 0s 2ms/step - loss: 0.9666 - lr: 0.0010\n",
            "Epoch 31/200\n",
            "6/6 [==============================] - 0s 2ms/step - loss: 1.0013 - lr: 0.0010\n",
            "Epoch 32/200\n",
            "6/6 [==============================] - 0s 2ms/step - loss: 1.0684 - lr: 0.0010\n",
            "Epoch 33/200\n",
            "6/6 [==============================] - 0s 2ms/step - loss: 0.9528 - lr: 0.0010\n",
            "Epoch 34/200\n",
            "6/6 [==============================] - 0s 2ms/step - loss: 0.9590 - lr: 0.0010\n",
            "Epoch 35/200\n",
            "6/6 [==============================] - 0s 2ms/step - loss: 1.0177 - lr: 0.0010\n",
            "Epoch 36/200\n",
            "6/6 [==============================] - 0s 2ms/step - loss: 0.9311 - lr: 0.0010\n",
            "Epoch 37/200\n",
            "6/6 [==============================] - 0s 2ms/step - loss: 1.1148 - lr: 0.0010\n",
            "Epoch 38/200\n",
            "6/6 [==============================] - 0s 2ms/step - loss: 0.9852 - lr: 0.0010\n",
            "Epoch 39/200\n",
            "6/6 [==============================] - 0s 3ms/step - loss: 1.1573 - lr: 0.0010\n",
            "Epoch 40/200\n",
            "6/6 [==============================] - 0s 2ms/step - loss: 1.4826 - lr: 0.0010\n",
            "Epoch 41/200\n",
            "6/6 [==============================] - 0s 2ms/step - loss: 1.1551 - lr: 0.0010\n",
            "Epoch 42/200\n",
            "6/6 [==============================] - 0s 3ms/step - loss: 0.9624 - lr: 0.0010\n",
            "Epoch 43/200\n",
            "6/6 [==============================] - 0s 3ms/step - loss: 1.0477 - lr: 0.0010\n",
            "Epoch 44/200\n",
            "6/6 [==============================] - 0s 2ms/step - loss: 0.8626 - lr: 0.0010\n",
            "Epoch 45/200\n",
            "6/6 [==============================] - 0s 2ms/step - loss: 0.8983 - lr: 0.0010\n",
            "Epoch 46/200\n",
            "6/6 [==============================] - 0s 2ms/step - loss: 0.9419 - lr: 0.0010\n",
            "Epoch 47/200\n",
            "6/6 [==============================] - 0s 2ms/step - loss: 0.9601 - lr: 0.0010\n",
            "Epoch 48/200\n",
            "6/6 [==============================] - 0s 2ms/step - loss: 1.0341 - lr: 0.0010\n",
            "Epoch 49/200\n",
            "6/6 [==============================] - 0s 2ms/step - loss: 1.1777 - lr: 0.0010\n",
            "Epoch 50/200\n",
            "6/6 [==============================] - 0s 2ms/step - loss: 1.0101 - lr: 0.0010\n",
            "Epoch 51/200\n",
            "6/6 [==============================] - 0s 2ms/step - loss: 0.8934 - lr: 1.0000e-04\n",
            "Epoch 52/200\n",
            "6/6 [==============================] - 0s 2ms/step - loss: 0.8772 - lr: 1.0000e-04\n",
            "Epoch 53/200\n",
            "6/6 [==============================] - 0s 2ms/step - loss: 0.8713 - lr: 1.0000e-04\n",
            "Epoch 54/200\n",
            "6/6 [==============================] - 0s 3ms/step - loss: 0.8708 - lr: 1.0000e-04\n",
            "Epoch 55/200\n",
            "6/6 [==============================] - 0s 2ms/step - loss: 0.8737 - lr: 1.0000e-04\n",
            "Epoch 56/200\n",
            "6/6 [==============================] - 0s 2ms/step - loss: 0.8717 - lr: 1.0000e-04\n",
            "Epoch 57/200\n",
            "6/6 [==============================] - 0s 3ms/step - loss: 0.8703 - lr: 1.0000e-04\n",
            "Epoch 58/200\n",
            "6/6 [==============================] - 0s 2ms/step - loss: 0.8723 - lr: 1.0000e-04\n",
            "Epoch 59/200\n",
            "6/6 [==============================] - 0s 2ms/step - loss: 0.8859 - lr: 1.0000e-04\n",
            "Epoch 60/200\n",
            "6/6 [==============================] - 0s 2ms/step - loss: 0.8705 - lr: 1.0000e-04\n",
            "Epoch 61/200\n",
            "6/6 [==============================] - 0s 2ms/step - loss: 0.8764 - lr: 1.0000e-04\n",
            "Epoch 62/200\n",
            "6/6 [==============================] - 0s 2ms/step - loss: 0.8706 - lr: 1.0000e-04\n",
            "Epoch 63/200\n",
            "6/6 [==============================] - 0s 2ms/step - loss: 0.8792 - lr: 1.0000e-04\n",
            "Epoch 64/200\n",
            "6/6 [==============================] - 0s 3ms/step - loss: 0.8767 - lr: 1.0000e-04\n",
            "Epoch 65/200\n",
            "6/6 [==============================] - 0s 3ms/step - loss: 0.8968 - lr: 1.0000e-04\n",
            "Epoch 66/200\n",
            "6/6 [==============================] - 0s 2ms/step - loss: 0.8668 - lr: 1.0000e-04\n",
            "Epoch 67/200\n",
            "6/6 [==============================] - 0s 2ms/step - loss: 0.9278 - lr: 1.0000e-04\n",
            "Epoch 68/200\n",
            "6/6 [==============================] - 0s 2ms/step - loss: 0.9377 - lr: 1.0000e-04\n",
            "Epoch 69/200\n",
            "6/6 [==============================] - 0s 2ms/step - loss: 0.8627 - lr: 1.0000e-04\n",
            "Epoch 70/200\n",
            "6/6 [==============================] - 0s 2ms/step - loss: 0.9099 - lr: 1.0000e-04\n",
            "Epoch 71/200\n",
            "6/6 [==============================] - 0s 2ms/step - loss: 0.8942 - lr: 1.0000e-04\n",
            "Epoch 72/200\n",
            "6/6 [==============================] - 0s 2ms/step - loss: 0.8797 - lr: 1.0000e-04\n",
            "Epoch 73/200\n",
            "6/6 [==============================] - 0s 2ms/step - loss: 0.8856 - lr: 1.0000e-04\n",
            "Epoch 74/200\n",
            "6/6 [==============================] - 0s 2ms/step - loss: 0.8727 - lr: 1.0000e-04\n",
            "Epoch 75/200\n",
            "6/6 [==============================] - 0s 2ms/step - loss: 0.8784 - lr: 1.0000e-04\n",
            "Epoch 76/200\n",
            "6/6 [==============================] - 0s 2ms/step - loss: 0.8779 - lr: 1.0000e-04\n",
            "Epoch 77/200\n",
            "6/6 [==============================] - 0s 2ms/step - loss: 0.8742 - lr: 1.0000e-04\n",
            "Epoch 78/200\n",
            "6/6 [==============================] - 0s 2ms/step - loss: 0.9123 - lr: 1.0000e-04\n",
            "Epoch 79/200\n",
            "6/6 [==============================] - 0s 2ms/step - loss: 0.8955 - lr: 1.0000e-04\n",
            "Epoch 80/200\n",
            "6/6 [==============================] - 0s 2ms/step - loss: 0.8724 - lr: 1.0000e-04\n",
            "Epoch 81/200\n",
            "6/6 [==============================] - 0s 2ms/step - loss: 0.8819 - lr: 1.0000e-04\n",
            "Epoch 82/200\n",
            "6/6 [==============================] - 0s 2ms/step - loss: 0.8878 - lr: 1.0000e-04\n",
            "Epoch 83/200\n",
            "6/6 [==============================] - 0s 2ms/step - loss: 0.8713 - lr: 1.0000e-04\n",
            "Epoch 84/200\n",
            "6/6 [==============================] - 0s 2ms/step - loss: 0.8707 - lr: 1.0000e-04\n",
            "Epoch 85/200\n",
            "6/6 [==============================] - 0s 2ms/step - loss: 0.8915 - lr: 1.0000e-04\n",
            "Epoch 86/200\n",
            "6/6 [==============================] - 0s 2ms/step - loss: 0.8906 - lr: 1.0000e-04\n",
            "Epoch 87/200\n",
            "6/6 [==============================] - 0s 3ms/step - loss: 0.8689 - lr: 1.0000e-04\n",
            "Epoch 88/200\n",
            "6/6 [==============================] - 0s 2ms/step - loss: 0.8739 - lr: 1.0000e-04\n",
            "Epoch 89/200\n",
            "6/6 [==============================] - 0s 2ms/step - loss: 0.8796 - lr: 1.0000e-04\n",
            "Epoch 90/200\n",
            "6/6 [==============================] - 0s 2ms/step - loss: 0.8871 - lr: 1.0000e-04\n",
            "Epoch 91/200\n",
            "6/6 [==============================] - 0s 2ms/step - loss: 0.8847 - lr: 1.0000e-04\n",
            "Epoch 92/200\n",
            "6/6 [==============================] - 0s 2ms/step - loss: 0.8764 - lr: 1.0000e-04\n",
            "Epoch 93/200\n",
            "6/6 [==============================] - 0s 3ms/step - loss: 0.8878 - lr: 1.0000e-04\n",
            "Epoch 94/200\n",
            "6/6 [==============================] - 0s 2ms/step - loss: 0.8816 - lr: 1.0000e-04\n",
            "Epoch 95/200\n",
            "6/6 [==============================] - 0s 2ms/step - loss: 0.8843 - lr: 1.0000e-04\n",
            "Epoch 96/200\n",
            "6/6 [==============================] - 0s 2ms/step - loss: 0.9512 - lr: 1.0000e-04\n",
            "Epoch 97/200\n",
            "6/6 [==============================] - 0s 2ms/step - loss: 0.9775 - lr: 1.0000e-04\n",
            "Epoch 98/200\n",
            "6/6 [==============================] - 0s 2ms/step - loss: 0.8841 - lr: 1.0000e-04\n",
            "Epoch 99/200\n",
            "6/6 [==============================] - 0s 2ms/step - loss: 0.8867 - lr: 1.0000e-04\n",
            "Epoch 100/200\n",
            "6/6 [==============================] - 0s 2ms/step - loss: 0.9155 - lr: 1.0000e-04\n",
            "Epoch 101/200\n",
            "6/6 [==============================] - 0s 3ms/step - loss: 0.8991 - lr: 1.0000e-04\n",
            "Epoch 102/200\n",
            "6/6 [==============================] - 0s 2ms/step - loss: 0.8680 - lr: 1.0000e-04\n",
            "Epoch 103/200\n",
            "6/6 [==============================] - 0s 2ms/step - loss: 0.8895 - lr: 1.0000e-04\n",
            "Epoch 104/200\n",
            "6/6 [==============================] - 0s 2ms/step - loss: 0.8821 - lr: 1.0000e-04\n",
            "Epoch 105/200\n",
            "6/6 [==============================] - 0s 2ms/step - loss: 0.8722 - lr: 1.0000e-04\n",
            "Epoch 106/200\n",
            "6/6 [==============================] - 0s 2ms/step - loss: 0.8710 - lr: 1.0000e-04\n",
            "Epoch 107/200\n",
            "6/6 [==============================] - 0s 2ms/step - loss: 0.8755 - lr: 1.0000e-04\n",
            "Epoch 108/200\n",
            "6/6 [==============================] - 0s 2ms/step - loss: 0.8750 - lr: 1.0000e-04\n",
            "Epoch 109/200\n",
            "6/6 [==============================] - 0s 2ms/step - loss: 0.8727 - lr: 1.0000e-04\n",
            "Epoch 110/200\n",
            "6/6 [==============================] - 0s 2ms/step - loss: 0.8856 - lr: 1.0000e-04\n",
            "Epoch 111/200\n",
            "6/6 [==============================] - 0s 2ms/step - loss: 0.8759 - lr: 1.0000e-04\n",
            "Epoch 112/200\n",
            "6/6 [==============================] - 0s 2ms/step - loss: 0.8714 - lr: 1.0000e-04\n",
            "Epoch 113/200\n",
            "6/6 [==============================] - 0s 2ms/step - loss: 0.8744 - lr: 1.0000e-04\n",
            "Epoch 114/200\n",
            "6/6 [==============================] - 0s 2ms/step - loss: 0.8895 - lr: 1.0000e-04\n",
            "Epoch 115/200\n",
            "6/6 [==============================] - 0s 2ms/step - loss: 0.8802 - lr: 1.0000e-04\n",
            "Epoch 116/200\n",
            "6/6 [==============================] - 0s 2ms/step - loss: 0.8772 - lr: 1.0000e-04\n",
            "Epoch 117/200\n",
            "6/6 [==============================] - 0s 2ms/step - loss: 0.8732 - lr: 1.0000e-04\n",
            "Epoch 118/200\n",
            "6/6 [==============================] - 0s 2ms/step - loss: 0.8728 - lr: 1.0000e-04\n",
            "Epoch 119/200\n",
            "6/6 [==============================] - 0s 2ms/step - loss: 0.8731 - lr: 1.0000e-04\n",
            "Epoch 120/200\n",
            "6/6 [==============================] - 0s 2ms/step - loss: 0.8697 - lr: 1.0000e-04\n",
            "Epoch 121/200\n",
            "6/6 [==============================] - 0s 2ms/step - loss: 0.8840 - lr: 1.0000e-04\n",
            "Epoch 122/200\n",
            "6/6 [==============================] - 0s 2ms/step - loss: 0.8680 - lr: 1.0000e-04\n",
            "Epoch 123/200\n",
            "6/6 [==============================] - 0s 2ms/step - loss: 0.8951 - lr: 1.0000e-04\n",
            "Epoch 124/200\n",
            "6/6 [==============================] - 0s 2ms/step - loss: 0.8775 - lr: 1.0000e-04\n",
            "Epoch 125/200\n",
            "6/6 [==============================] - 0s 2ms/step - loss: 0.8737 - lr: 1.0000e-04\n",
            "Epoch 126/200\n",
            "6/6 [==============================] - 0s 2ms/step - loss: 0.8831 - lr: 1.0000e-04\n",
            "Epoch 127/200\n",
            "6/6 [==============================] - 0s 2ms/step - loss: 0.8657 - lr: 1.0000e-04\n",
            "Epoch 128/200\n",
            "6/6 [==============================] - 0s 2ms/step - loss: 0.8959 - lr: 1.0000e-04\n",
            "Epoch 129/200\n",
            "6/6 [==============================] - 0s 2ms/step - loss: 0.8721 - lr: 1.0000e-04\n",
            "Epoch 130/200\n",
            "6/6 [==============================] - 0s 2ms/step - loss: 0.8799 - lr: 1.0000e-04\n",
            "Epoch 131/200\n",
            "6/6 [==============================] - 0s 2ms/step - loss: 0.8797 - lr: 1.0000e-04\n",
            "Epoch 132/200\n",
            "6/6 [==============================] - 0s 2ms/step - loss: 0.8694 - lr: 1.0000e-04\n",
            "Epoch 133/200\n",
            "6/6 [==============================] - 0s 2ms/step - loss: 0.8722 - lr: 1.0000e-04\n",
            "Epoch 134/200\n",
            "6/6 [==============================] - 0s 2ms/step - loss: 0.8725 - lr: 1.0000e-04\n",
            "Epoch 135/200\n",
            "6/6 [==============================] - 0s 2ms/step - loss: 0.8710 - lr: 1.0000e-04\n",
            "Epoch 136/200\n",
            "6/6 [==============================] - 0s 2ms/step - loss: 0.8723 - lr: 1.0000e-04\n",
            "Epoch 137/200\n",
            "6/6 [==============================] - 0s 4ms/step - loss: 0.8711 - lr: 1.0000e-04\n",
            "Epoch 138/200\n",
            "6/6 [==============================] - 0s 3ms/step - loss: 0.8704 - lr: 1.0000e-04\n",
            "Epoch 139/200\n",
            "6/6 [==============================] - 0s 2ms/step - loss: 0.8751 - lr: 1.0000e-04\n",
            "Epoch 140/200\n",
            "6/6 [==============================] - 0s 3ms/step - loss: 0.8745 - lr: 1.0000e-04\n",
            "Epoch 141/200\n",
            "6/6 [==============================] - 0s 2ms/step - loss: 0.8714 - lr: 1.0000e-04\n",
            "Epoch 142/200\n",
            "6/6 [==============================] - 0s 2ms/step - loss: 0.8757 - lr: 1.0000e-04\n",
            "Epoch 143/200\n",
            "6/6 [==============================] - 0s 3ms/step - loss: 0.8693 - lr: 1.0000e-04\n",
            "Epoch 144/200\n",
            "6/6 [==============================] - 0s 2ms/step - loss: 0.8713 - lr: 1.0000e-04\n",
            "Epoch 145/200\n",
            "6/6 [==============================] - 0s 2ms/step - loss: 0.8727 - lr: 1.0000e-04\n",
            "Epoch 146/200\n",
            "6/6 [==============================] - 0s 2ms/step - loss: 0.8769 - lr: 1.0000e-04\n",
            "Epoch 147/200\n",
            "6/6 [==============================] - 0s 2ms/step - loss: 0.8825 - lr: 1.0000e-04\n",
            "Epoch 148/200\n",
            "6/6 [==============================] - 0s 2ms/step - loss: 0.8752 - lr: 1.0000e-04\n",
            "Epoch 149/200\n",
            "6/6 [==============================] - 0s 2ms/step - loss: 0.8748 - lr: 1.0000e-04\n",
            "Epoch 150/200\n",
            "6/6 [==============================] - 0s 2ms/step - loss: 0.8726 - lr: 1.0000e-04\n",
            "Epoch 151/200\n",
            "6/6 [==============================] - 0s 3ms/step - loss: 0.8927 - lr: 1.0000e-04\n",
            "Epoch 152/200\n",
            "6/6 [==============================] - 0s 2ms/step - loss: 0.8880 - lr: 1.0000e-04\n",
            "Epoch 153/200\n",
            "6/6 [==============================] - 0s 2ms/step - loss: 0.8794 - lr: 1.0000e-04\n",
            "Epoch 154/200\n",
            "6/6 [==============================] - 0s 2ms/step - loss: 0.8755 - lr: 1.0000e-04\n",
            "Epoch 155/200\n",
            "6/6 [==============================] - 0s 2ms/step - loss: 0.8742 - lr: 1.0000e-04\n",
            "Epoch 156/200\n",
            "6/6 [==============================] - 0s 2ms/step - loss: 0.8760 - lr: 1.0000e-04\n",
            "Epoch 157/200\n",
            "6/6 [==============================] - 0s 2ms/step - loss: 0.8865 - lr: 1.0000e-04\n",
            "Epoch 158/200\n",
            "6/6 [==============================] - 0s 3ms/step - loss: 0.8785 - lr: 1.0000e-04\n",
            "Epoch 159/200\n",
            "6/6 [==============================] - 0s 2ms/step - loss: 0.8887 - lr: 1.0000e-04\n",
            "Epoch 160/200\n",
            "6/6 [==============================] - 0s 3ms/step - loss: 0.9149 - lr: 1.0000e-04\n",
            "Epoch 161/200\n",
            "6/6 [==============================] - 0s 2ms/step - loss: 0.8957 - lr: 1.0000e-04\n",
            "Epoch 162/200\n",
            "6/6 [==============================] - 0s 2ms/step - loss: 0.8730 - lr: 1.0000e-04\n",
            "Epoch 163/200\n",
            "6/6 [==============================] - 0s 2ms/step - loss: 0.8743 - lr: 1.0000e-04\n",
            "Epoch 164/200\n",
            "6/6 [==============================] - 0s 2ms/step - loss: 0.8854 - lr: 1.0000e-04\n",
            "Epoch 165/200\n",
            "6/6 [==============================] - 0s 2ms/step - loss: 0.8751 - lr: 1.0000e-04\n",
            "Epoch 166/200\n",
            "6/6 [==============================] - 0s 3ms/step - loss: 0.8744 - lr: 1.0000e-04\n",
            "Epoch 167/200\n",
            "6/6 [==============================] - 0s 2ms/step - loss: 0.8734 - lr: 1.0000e-04\n",
            "Epoch 168/200\n",
            "6/6 [==============================] - 0s 3ms/step - loss: 0.8701 - lr: 1.0000e-04\n",
            "Epoch 169/200\n",
            "6/6 [==============================] - 0s 3ms/step - loss: 0.8750 - lr: 1.0000e-04\n",
            "Epoch 170/200\n",
            "6/6 [==============================] - 0s 2ms/step - loss: 0.9032 - lr: 1.0000e-04\n",
            "Epoch 171/200\n",
            "6/6 [==============================] - 0s 2ms/step - loss: 0.9007 - lr: 1.0000e-04\n",
            "Epoch 172/200\n",
            "6/6 [==============================] - 0s 2ms/step - loss: 0.8770 - lr: 1.0000e-04\n",
            "Epoch 173/200\n",
            "6/6 [==============================] - 0s 3ms/step - loss: 0.8756 - lr: 1.0000e-04\n",
            "Epoch 174/200\n",
            "6/6 [==============================] - 0s 2ms/step - loss: 0.8713 - lr: 1.0000e-04\n",
            "Epoch 175/200\n",
            "6/6 [==============================] - 0s 2ms/step - loss: 0.8789 - lr: 1.0000e-04\n",
            "Epoch 176/200\n",
            "6/6 [==============================] - 0s 2ms/step - loss: 0.8743 - lr: 1.0000e-04\n",
            "Epoch 177/200\n",
            "6/6 [==============================] - 0s 2ms/step - loss: 0.8731 - lr: 1.0000e-04\n",
            "Epoch 178/200\n",
            "6/6 [==============================] - 0s 3ms/step - loss: 0.8859 - lr: 1.0000e-04\n",
            "Epoch 179/200\n",
            "6/6 [==============================] - 0s 2ms/step - loss: 0.8842 - lr: 1.0000e-04\n",
            "Epoch 180/200\n",
            "6/6 [==============================] - 0s 2ms/step - loss: 0.8704 - lr: 1.0000e-04\n",
            "Epoch 181/200\n",
            "6/6 [==============================] - 0s 2ms/step - loss: 0.8805 - lr: 1.0000e-04\n",
            "Epoch 182/200\n",
            "6/6 [==============================] - 0s 2ms/step - loss: 0.8707 - lr: 1.0000e-04\n",
            "Epoch 183/200\n",
            "6/6 [==============================] - 0s 3ms/step - loss: 0.8731 - lr: 1.0000e-04\n",
            "Epoch 184/200\n",
            "6/6 [==============================] - 0s 3ms/step - loss: 0.8741 - lr: 1.0000e-04\n",
            "Epoch 185/200\n",
            "6/6 [==============================] - 0s 2ms/step - loss: 0.8722 - lr: 1.0000e-04\n",
            "Epoch 186/200\n",
            "6/6 [==============================] - 0s 3ms/step - loss: 0.8783 - lr: 1.0000e-04\n",
            "Epoch 187/200\n",
            "6/6 [==============================] - 0s 2ms/step - loss: 0.9009 - lr: 1.0000e-04\n",
            "Epoch 188/200\n",
            "6/6 [==============================] - 0s 2ms/step - loss: 0.8864 - lr: 1.0000e-04\n",
            "Epoch 189/200\n",
            "6/6 [==============================] - 0s 2ms/step - loss: 0.8784 - lr: 1.0000e-04\n",
            "Epoch 190/200\n",
            "6/6 [==============================] - 0s 4ms/step - loss: 0.8778 - lr: 1.0000e-04\n",
            "Epoch 191/200\n",
            "6/6 [==============================] - 0s 4ms/step - loss: 0.8797 - lr: 1.0000e-04\n",
            "Epoch 192/200\n",
            "6/6 [==============================] - 0s 3ms/step - loss: 0.8749 - lr: 1.0000e-04\n",
            "Epoch 193/200\n",
            "6/6 [==============================] - 0s 2ms/step - loss: 0.8771 - lr: 1.0000e-04\n",
            "Epoch 194/200\n",
            "6/6 [==============================] - 0s 2ms/step - loss: 0.8942 - lr: 1.0000e-04\n",
            "Epoch 195/200\n",
            "6/6 [==============================] - 0s 2ms/step - loss: 0.8776 - lr: 1.0000e-04\n",
            "Epoch 196/200\n",
            "6/6 [==============================] - 0s 2ms/step - loss: 0.8700 - lr: 1.0000e-04\n",
            "Epoch 197/200\n",
            "6/6 [==============================] - 0s 3ms/step - loss: 0.8976 - lr: 1.0000e-04\n",
            "Epoch 198/200\n",
            "6/6 [==============================] - 0s 2ms/step - loss: 0.8686 - lr: 1.0000e-04\n",
            "Epoch 199/200\n",
            "6/6 [==============================] - 0s 2ms/step - loss: 0.8915 - lr: 1.0000e-04\n",
            "Epoch 200/200\n",
            "6/6 [==============================] - 0s 2ms/step - loss: 0.8960 - lr: 1.0000e-04\n"
          ]
        }
      ]
    },
    {
      "cell_type": "code",
      "source": [
        "plt.plot(r.history['loss'], label='loss')     # to check which epoch value to choose, \n",
        "plt.legend()                                  # here even 75 would have been fine"
      ],
      "metadata": {
        "colab": {
          "base_uri": "https://localhost:8080/",
          "height": 447
        },
        "id": "wZOI_BIStgoC",
        "outputId": "812da027-5a43-475d-df83-1e62fbdaf8af"
      },
      "execution_count": 19,
      "outputs": [
        {
          "output_type": "execute_result",
          "data": {
            "text/plain": [
              "<matplotlib.legend.Legend at 0x7f95016c7280>"
            ]
          },
          "metadata": {},
          "execution_count": 19
        },
        {
          "output_type": "display_data",
          "data": {
            "text/plain": [
              "<Figure size 640x480 with 1 Axes>"
            ],
            "image/png": "[encoded data removed]"
          },
          "metadata": {}
        }
      ]
    },
    {
      "cell_type": "code",
      "source": [
        "# understanding the model and weights\n",
        "model.layers"
      ],
      "metadata": {
        "colab": {
          "base_uri": "https://localhost:8080/"
        },
        "id": "wjLn-1MbuFq_",
        "outputId": "53b06337-20b7-47c6-8c04-b9cf3da347da"
      },
      "execution_count": 24,
      "outputs": [
        {
          "output_type": "execute_result",
          "data": {
            "text/plain": [
              "[<keras.layers.core.dense.Dense at 0x7f950198c700>]"
            ]
          },
          "metadata": {},
          "execution_count": 24
        }
      ]
    },
    {
      "cell_type": "code",
      "source": [
        "len(model.layers)"
      ],
      "metadata": {
        "colab": {
          "base_uri": "https://localhost:8080/"
        },
        "id": "V1Go-r4xxKl8",
        "outputId": "34272911-d160-4745-f72a-d3014ada0b77"
      },
      "execution_count": 25,
      "outputs": [
        {
          "output_type": "execute_result",
          "data": {
            "text/plain": [
              "1"
            ]
          },
          "metadata": {},
          "execution_count": 25
        }
      ]
    },
    {
      "cell_type": "code",
      "source": [
        "model.layers[0].get_weights()"
      ],
      "metadata": {
        "colab": {
          "base_uri": "https://localhost:8080/"
        },
        "id": "UHgAadTkwOx1",
        "outputId": "37d90ed5-ed8e-4a33-df0d-c88ce8ca16a1"
      },
      "execution_count": 26,
      "outputs": [
        {
          "output_type": "execute_result",
          "data": {
            "text/plain": [
              "[array([[0.34795034]], dtype=float32), array([17.778923], dtype=float32)]"
            ]
          },
          "metadata": {},
          "execution_count": 26
        }
      ]
    },
    {
      "cell_type": "code",
      "source": [
        "a = model.layers[0].get_weights()[0][0,0]     # since only 1 layer and 1 size, a is slope of the equation y=ax+b"
      ],
      "metadata": {
        "id": "DBoL8uRQwR8T"
      },
      "execution_count": 27,
      "outputs": []
    },
    {
      "cell_type": "code",
      "source": [],
      "metadata": {
        "id": "Jj8k8v1UwXOh"
      },
      "execution_count": null,
      "outputs": []
    }
  ]
}