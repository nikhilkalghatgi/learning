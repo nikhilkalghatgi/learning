{
  "nbformat": 4,
  "nbformat_minor": 0,
  "metadata": {
    "colab": {
      "provenance": [],
      "gpuType": "T4",
      "authorship_tag": "ABX9TyM8mYwfGrP/XnzEg+Ud33CD",
      "include_colab_link": true
    },
    "kernelspec": {
      "name": "python3",
      "display_name": "Python 3"
    },
    "language_info": {
      "name": "python"
    },
    "accelerator": "GPU"
  },
  "cells": [
    {
      "cell_type": "markdown",
      "metadata": {
        "id": "view-in-github",
        "colab_type": "text"
      },
      "source": [
        "<a href=\"https://colab.research.google.com/github/nikhilkalghatgi/learning/blob/main/PyTorch/torch_tensor_basics.ipynb\" target=\"_parent\"><img src=\"https://colab.research.google.com/assets/colab-badge.svg\" alt=\"Open In Colab\"/></a>"
      ]
    },
    {
      "cell_type": "code",
      "execution_count": 1,
      "metadata": {
        "colab": {
          "base_uri": "https://localhost:8080/"
        },
        "id": "_Epy7OTh2j27",
        "outputId": "874efab4-2947-459e-b193-5f94dc4bd7e3"
      },
      "outputs": [
        {
          "output_type": "stream",
          "name": "stdout",
          "text": [
            "2.1.0+cu118\n"
          ]
        }
      ],
      "source": [
        "import torch\n",
        "print(torch.__version__)"
      ]
    },
    {
      "cell_type": "code",
      "source": [
        "scalar = torch.tensor(7)"
      ],
      "metadata": {
        "id": "LA17ae4e206v"
      },
      "execution_count": 2,
      "outputs": []
    },
    {
      "cell_type": "code",
      "source": [
        "scalar.ndim  # number of square brakets\n",
        "scalar.item()  # getting the actual values with actual data types and not as a tensor\n",
        "scalar.shape   # dimensios of elements"
      ],
      "metadata": {
        "colab": {
          "base_uri": "https://localhost:8080/"
        },
        "id": "bYjN5XxD5em6",
        "outputId": "4f124afb-18ce-4ff8-d31b-bf8b7bffd105"
      },
      "execution_count": 3,
      "outputs": [
        {
          "output_type": "execute_result",
          "data": {
            "text/plain": [
              "torch.Size([])"
            ]
          },
          "metadata": {},
          "execution_count": 3
        }
      ]
    },
    {
      "cell_type": "code",
      "source": [
        "t = torch.tensor([[\n",
        "    [1,2],\n",
        "    [2,3],\n",
        "    [6,4]]]\n",
        ")\n",
        "t.ndim      # number of nested brackets -> this will be = number of dimesions ie: in tensor of shape [16, 32, 8, 8], the ndim = 4 since 4 elements\n",
        "t.shape"
      ],
      "metadata": {
        "colab": {
          "base_uri": "https://localhost:8080/"
        },
        "id": "3P4X367_5pSp",
        "outputId": "387987d2-e862-4854-d982-edd9d2b4d894"
      },
      "execution_count": 4,
      "outputs": [
        {
          "output_type": "execute_result",
          "data": {
            "text/plain": [
              "torch.Size([1, 3, 2])"
            ]
          },
          "metadata": {},
          "execution_count": 4
        }
      ]
    },
    {
      "cell_type": "code",
      "source": [
        "random_tensor = torch.rand(3,5)\n",
        "random_tensor"
      ],
      "metadata": {
        "colab": {
          "base_uri": "https://localhost:8080/"
        },
        "id": "pR7ZoFDg6vI_",
        "outputId": "5673657d-d00e-442a-d9cd-63690af5a37d"
      },
      "execution_count": 5,
      "outputs": [
        {
          "output_type": "execute_result",
          "data": {
            "text/plain": [
              "tensor([[0.1420, 0.4608, 0.0507, 0.1437, 0.8013],\n",
              "        [0.2289, 0.6959, 0.8992, 0.0851, 0.3949],\n",
              "        [0.7504, 0.8474, 0.3135, 0.3179, 0.0024]])"
            ]
          },
          "metadata": {},
          "execution_count": 5
        }
      ]
    },
    {
      "cell_type": "code",
      "source": [
        "# random tensor for image\n",
        "rim = torch.rand(size=(32,32,3)) # height, width, color\n",
        "rim.shape"
      ],
      "metadata": {
        "colab": {
          "base_uri": "https://localhost:8080/"
        },
        "id": "2mvQwUxoPLl_",
        "outputId": "b35dd3b9-5f74-4631-a993-6d51a9e03f55"
      },
      "execution_count": 6,
      "outputs": [
        {
          "output_type": "execute_result",
          "data": {
            "text/plain": [
              "torch.Size([32, 32, 3])"
            ]
          },
          "metadata": {},
          "execution_count": 6
        }
      ]
    },
    {
      "cell_type": "code",
      "source": [
        "zeros = torch.zeros(size=(3,4))\n",
        "ones = torch.ones(size=(3,4))\n",
        "ones.dtype        # check data type of tensor"
      ],
      "metadata": {
        "colab": {
          "base_uri": "https://localhost:8080/"
        },
        "id": "O99Ar23kPzp2",
        "outputId": "48976ca0-7afd-4fd9-b43d-30f779b7f20b"
      },
      "execution_count": 7,
      "outputs": [
        {
          "output_type": "execute_result",
          "data": {
            "text/plain": [
              "torch.float32"
            ]
          },
          "metadata": {},
          "execution_count": 7
        }
      ]
    },
    {
      "cell_type": "markdown",
      "source": [
        "### RANGE AND TENSOR LIKE"
      ],
      "metadata": {
        "id": "_PC435MXRHpF"
      }
    },
    {
      "cell_type": "code",
      "source": [
        "on2ten = torch.arange(0,10)       # .range is depricated so .arange is sued\n",
        "onetotenstep = torch.arange(start=0, end=100, step=7)\n",
        "onetotenstep"
      ],
      "metadata": {
        "colab": {
          "base_uri": "https://localhost:8080/"
        },
        "id": "gSJS9iMqRghS",
        "outputId": "19e0f1b2-6572-4f13-deb5-dcfa6aec84bb"
      },
      "execution_count": 8,
      "outputs": [
        {
          "output_type": "execute_result",
          "data": {
            "text/plain": [
              "tensor([ 0,  7, 14, 21, 28, 35, 42, 49, 56, 63, 70, 77, 84, 91, 98])"
            ]
          },
          "metadata": {},
          "execution_count": 8
        }
      ]
    },
    {
      "cell_type": "code",
      "source": [
        "# LIKE\n",
        "ten_zeros = torch.zeros_like(input=on2ten)          # it will output same shape as input\n",
        "ten_zeros"
      ],
      "metadata": {
        "colab": {
          "base_uri": "https://localhost:8080/"
        },
        "id": "J8KNhl4HRlNV",
        "outputId": "3de5a9b0-ebc5-4d96-90d8-b5a350c11f1c"
      },
      "execution_count": 9,
      "outputs": [
        {
          "output_type": "execute_result",
          "data": {
            "text/plain": [
              "tensor([0, 0, 0, 0, 0, 0, 0, 0, 0, 0])"
            ]
          },
          "metadata": {},
          "execution_count": 9
        }
      ]
    },
    {
      "cell_type": "markdown",
      "source": [
        "## TENSOR OPERATIONS"
      ],
      "metadata": {
        "id": "yqaSq44ITrDQ"
      }
    },
    {
      "cell_type": "code",
      "source": [
        "tensor = torch.tensor([1, 2, 3])\n",
        "tensor + 10       # adding a scalar\n",
        "tensor * 10       # miltipling a scalar"
      ],
      "metadata": {
        "colab": {
          "base_uri": "https://localhost:8080/"
        },
        "id": "4NOarIVAIqL0",
        "outputId": "ee86bd18-49dd-47eb-e92d-4f3ff79f4847"
      },
      "execution_count": 10,
      "outputs": [
        {
          "output_type": "execute_result",
          "data": {
            "text/plain": [
              "tensor([10, 20, 30])"
            ]
          },
          "metadata": {},
          "execution_count": 10
        }
      ]
    },
    {
      "cell_type": "code",
      "source": [
        "# Torch inbuilt functions\n",
        "torch.mul(tensor, 10)\n",
        "torch.add(tensor, 10)"
      ],
      "metadata": {
        "colab": {
          "base_uri": "https://localhost:8080/"
        },
        "id": "UZHT3mdfI0of",
        "outputId": "0c081b39-20cc-4707-ad13-2cf53790be09"
      },
      "execution_count": 11,
      "outputs": [
        {
          "output_type": "execute_result",
          "data": {
            "text/plain": [
              "tensor([11, 12, 13])"
            ]
          },
          "metadata": {},
          "execution_count": 11
        }
      ]
    },
    {
      "cell_type": "markdown",
      "source": [
        "### MATRIX MULTIPLICATION"
      ],
      "metadata": {
        "id": "L4KKEz6nJIPL"
      }
    },
    {
      "cell_type": "code",
      "source": [
        "tensor"
      ],
      "metadata": {
        "colab": {
          "base_uri": "https://localhost:8080/"
        },
        "id": "S1vzfxf1JW6j",
        "outputId": "5520a180-1f24-499c-fdce-4c2f486c807c"
      },
      "execution_count": 12,
      "outputs": [
        {
          "output_type": "execute_result",
          "data": {
            "text/plain": [
              "tensor([1, 2, 3])"
            ]
          },
          "metadata": {},
          "execution_count": 12
        }
      ]
    },
    {
      "cell_type": "code",
      "source": [
        "# Elementwise mult\n",
        "print(tensor * tensor)  # 1x1 , 2x2, 3x3\n",
        "\n",
        "# Dot product ir matrix mult\n",
        "torch.matmul(tensor, tensor)  # = 1x1 + 2x2 + 3x3\n",
        "\n",
        "# OR\n",
        "tensor @ tensor    # @ is used for matrix mult"
      ],
      "metadata": {
        "colab": {
          "base_uri": "https://localhost:8080/"
        },
        "id": "JlyDyujdJqIc",
        "outputId": "fb7980d9-df5e-4d13-b5e3-9fa6e06a5e6d"
      },
      "execution_count": 13,
      "outputs": [
        {
          "output_type": "stream",
          "name": "stdout",
          "text": [
            "tensor([1, 4, 9])\n"
          ]
        },
        {
          "output_type": "execute_result",
          "data": {
            "text/plain": [
              "tensor(14)"
            ]
          },
          "metadata": {},
          "execution_count": 13
        }
      ]
    },
    {
      "cell_type": "code",
      "source": [
        "#\n",
        "tensorA = torch.tensor([\n",
        "    [1, 2],\n",
        "    [3, 4],\n",
        "    [5, 6]\n",
        "])\n",
        "\n",
        "tensorB = torch.tensor([\n",
        "    [7, 10],\n",
        "    [8, 11],\n",
        "    [9, 12]\n",
        "])\n",
        "\n",
        "# TRANSPOSE\n",
        "tensorB = tensorB.T\n",
        "\n",
        "# TORCH.MM IS SAME AS TORCH.MATMUL\n",
        "torch.mm(tensorA, tensorB)"
      ],
      "metadata": {
        "colab": {
          "base_uri": "https://localhost:8080/"
        },
        "id": "9RiJUh-GJxP7",
        "outputId": "3599b30f-4d0d-459c-fc77-baa2a3070049"
      },
      "execution_count": 14,
      "outputs": [
        {
          "output_type": "execute_result",
          "data": {
            "text/plain": [
              "tensor([[ 27,  30,  33],\n",
              "        [ 61,  68,  75],\n",
              "        [ 95, 106, 117]])"
            ]
          },
          "metadata": {},
          "execution_count": 14
        }
      ]
    },
    {
      "cell_type": "markdown",
      "source": [
        "### MIN MAX AND SUM"
      ],
      "metadata": {
        "id": "JY0DJ03GM2bv"
      }
    },
    {
      "cell_type": "code",
      "source": [
        "x = torch.arange(0, 100, 10)    # x is of type int64, which is long\n",
        "\n",
        "torch.min(x), x.min()    # Both are same\n",
        "torch.max(x) , x.max()\n",
        "torch.sum(x), x.sum()"
      ],
      "metadata": {
        "colab": {
          "base_uri": "https://localhost:8080/"
        },
        "id": "zGi--8PRVyxO",
        "outputId": "6598076c-e0d2-4bd6-c0d7-b8351a6e7087"
      },
      "execution_count": 15,
      "outputs": [
        {
          "output_type": "execute_result",
          "data": {
            "text/plain": [
              "(tensor(450), tensor(450))"
            ]
          },
          "metadata": {},
          "execution_count": 15
        }
      ]
    },
    {
      "cell_type": "code",
      "source": [
        "#torch.mean(x) # this will throw error cuz x is int64 (long) but mean() expects float\n",
        "torch.mean(x.type(torch.float32))\n",
        "x.type(torch.float32).mean()"
      ],
      "metadata": {
        "colab": {
          "base_uri": "https://localhost:8080/"
        },
        "id": "SdpQORIbV7_D",
        "outputId": "53f2000f-03e3-4cc9-fb6c-4748188c85c8"
      },
      "execution_count": 16,
      "outputs": [
        {
          "output_type": "execute_result",
          "data": {
            "text/plain": [
              "tensor(45.)"
            ]
          },
          "metadata": {},
          "execution_count": 16
        }
      ]
    },
    {
      "cell_type": "markdown",
      "source": [
        "### FIND POSITIONAL MIN AND MAX"
      ],
      "metadata": {
        "id": "aEWzwCf7Wngx"
      }
    },
    {
      "cell_type": "code",
      "source": [
        "# Find the position in tensor X that has min value -> returns index pos of X with min value\n",
        "x.argmin()\n",
        "\n",
        "# similarly\n",
        "x.argmax()"
      ],
      "metadata": {
        "colab": {
          "base_uri": "https://localhost:8080/"
        },
        "id": "WLqZUsYbXr2u",
        "outputId": "5af5e191-0e86-47a1-94b4-59c0b81f841a"
      },
      "execution_count": 17,
      "outputs": [
        {
          "output_type": "execute_result",
          "data": {
            "text/plain": [
              "tensor(9)"
            ]
          },
          "metadata": {},
          "execution_count": 17
        }
      ]
    },
    {
      "cell_type": "markdown",
      "source": [
        "### RESHAPING , VIEWING , STACKING, SQUEEZING AND UNSQUEEZING"
      ],
      "metadata": {
        "id": "u4x-ZN-pXuet"
      }
    },
    {
      "cell_type": "code",
      "source": [
        "import torch\n",
        "x = torch.arange(1., 10.)\n",
        "x.dtype"
      ],
      "metadata": {
        "colab": {
          "base_uri": "https://localhost:8080/"
        },
        "id": "8CszMOt_Yoqi",
        "outputId": "35af4dd0-61af-4dcd-e2aa-7c9ba252631e"
      },
      "execution_count": 18,
      "outputs": [
        {
          "output_type": "execute_result",
          "data": {
            "text/plain": [
              "torch.float32"
            ]
          },
          "metadata": {},
          "execution_count": 18
        }
      ]
    },
    {
      "cell_type": "code",
      "source": [
        "# RESHAPE\n",
        "x_reshaped = x.reshape(1, 9)   # Just adds 1 dimension extra\n",
        "print(x_reshaped.shape)\n",
        "\n",
        "#x_reshaped = x.reshape(2, 9)   # error: cuz 2*9 = 18 and 9 cannot be split into 18 parts\n",
        "print(x_reshaped.shape)\n",
        "\n",
        "x_reshaped = x.reshape(9, 1)   # creates 9 rows and one col\n",
        "print(x_reshaped.shape)\n",
        "\n",
        "# eg 2:\n",
        "x1 = torch.arange(1., 11.) # 10 elements\n",
        "x_reshaped1 = x1.reshape(5,2)   # 5*2 = 10 so it will work\n",
        "print(x_reshaped1.shape)"
      ],
      "metadata": {
        "colab": {
          "base_uri": "https://localhost:8080/"
        },
        "id": "RM1zwuMHcIJg",
        "outputId": "fec570b9-0208-466a-d2fb-cba7f2c6b6f4"
      },
      "execution_count": 19,
      "outputs": [
        {
          "output_type": "stream",
          "name": "stdout",
          "text": [
            "torch.Size([1, 9])\n",
            "torch.Size([1, 9])\n",
            "torch.Size([9, 1])\n",
            "torch.Size([5, 2])\n"
          ]
        }
      ]
    },
    {
      "cell_type": "code",
      "source": [
        "# VIEW\n",
        "z = x.view(1, 9)\n",
        "print(z, z.shape)\n",
        "\n",
        "# NOTE:\n",
        "# CHANGEING Z CHANGES X CUZ VIEW OF A TENSOR SHARES THE SAME MEMORY AS THE ORIGINAL\n",
        "z[:, 0] = 5\n",
        "z,x"
      ],
      "metadata": {
        "colab": {
          "base_uri": "https://localhost:8080/"
        },
        "id": "IklLw5rwcfaH",
        "outputId": "226642bd-6866-4e51-f8af-180da8e1bc24"
      },
      "execution_count": 20,
      "outputs": [
        {
          "output_type": "stream",
          "name": "stdout",
          "text": [
            "tensor([[1., 2., 3., 4., 5., 6., 7., 8., 9.]]) torch.Size([1, 9])\n"
          ]
        },
        {
          "output_type": "execute_result",
          "data": {
            "text/plain": [
              "(tensor([[5., 2., 3., 4., 5., 6., 7., 8., 9.]]),\n",
              " tensor([5., 2., 3., 4., 5., 6., 7., 8., 9.]))"
            ]
          },
          "metadata": {},
          "execution_count": 20
        }
      ]
    },
    {
      "cell_type": "code",
      "source": [
        "# STACK\n",
        "x_stacked1 = torch.stack([x,x,x,x], dim=0)\n",
        "x_stacked2 = torch.stack([x,x,x,x], dim=1)  # dim is the dimension of the new tensor\n",
        "x, x_stacked1, x_stacked2"
      ],
      "metadata": {
        "colab": {
          "base_uri": "https://localhost:8080/"
        },
        "id": "qWb3JJI7dxDN",
        "outputId": "5e40fbac-2a00-443f-9583-c998ce925d41"
      },
      "execution_count": 21,
      "outputs": [
        {
          "output_type": "execute_result",
          "data": {
            "text/plain": [
              "(tensor([5., 2., 3., 4., 5., 6., 7., 8., 9.]),\n",
              " tensor([[5., 2., 3., 4., 5., 6., 7., 8., 9.],\n",
              "         [5., 2., 3., 4., 5., 6., 7., 8., 9.],\n",
              "         [5., 2., 3., 4., 5., 6., 7., 8., 9.],\n",
              "         [5., 2., 3., 4., 5., 6., 7., 8., 9.]]),\n",
              " tensor([[5., 5., 5., 5.],\n",
              "         [2., 2., 2., 2.],\n",
              "         [3., 3., 3., 3.],\n",
              "         [4., 4., 4., 4.],\n",
              "         [5., 5., 5., 5.],\n",
              "         [6., 6., 6., 6.],\n",
              "         [7., 7., 7., 7.],\n",
              "         [8., 8., 8., 8.],\n",
              "         [9., 9., 9., 9.]]))"
            ]
          },
          "metadata": {},
          "execution_count": 21
        }
      ]
    },
    {
      "cell_type": "code",
      "source": [
        "# SQUEEZE\n",
        "x = torch.zeros(2,1,2,1,2)\n",
        "x.shape"
      ],
      "metadata": {
        "colab": {
          "base_uri": "https://localhost:8080/"
        },
        "id": "r6qn9uN7g6P_",
        "outputId": "50af55f4-ffa2-471f-daff-eb8787bab265"
      },
      "execution_count": 22,
      "outputs": [
        {
          "output_type": "execute_result",
          "data": {
            "text/plain": [
              "torch.Size([2, 1, 2, 1, 2])"
            ]
          },
          "metadata": {},
          "execution_count": 22
        }
      ]
    },
    {
      "cell_type": "code",
      "source": [
        "y = torch.squeeze(x)\n",
        "x.shape, t.shape, x, y\n"
      ],
      "metadata": {
        "colab": {
          "base_uri": "https://localhost:8080/"
        },
        "id": "64zylLvnsokp",
        "outputId": "66d9e017-6a6f-47eb-a47e-ef8a936a856e"
      },
      "execution_count": 23,
      "outputs": [
        {
          "output_type": "execute_result",
          "data": {
            "text/plain": [
              "(torch.Size([2, 1, 2, 1, 2]),\n",
              " torch.Size([1, 3, 2]),\n",
              " tensor([[[[[0., 0.]],\n",
              " \n",
              "           [[0., 0.]]]],\n",
              " \n",
              " \n",
              " \n",
              "         [[[[0., 0.]],\n",
              " \n",
              "           [[0., 0.]]]]]),\n",
              " tensor([[[0., 0.],\n",
              "          [0., 0.]],\n",
              " \n",
              "         [[0., 0.],\n",
              "          [0., 0.]]]))"
            ]
          },
          "metadata": {},
          "execution_count": 23
        }
      ]
    },
    {
      "cell_type": "code",
      "source": [
        "x = torch.arange(0,100,10, dtype=torch.float32)\n",
        "x.unsqueeze(dim=-1), x.unsqueeze(dim=0)"
      ],
      "metadata": {
        "colab": {
          "base_uri": "https://localhost:8080/"
        },
        "id": "k5asixensyFP",
        "outputId": "e1cec18f-78c4-450b-aaf9-eed337629944"
      },
      "execution_count": 24,
      "outputs": [
        {
          "output_type": "execute_result",
          "data": {
            "text/plain": [
              "(tensor([[ 0.],\n",
              "         [10.],\n",
              "         [20.],\n",
              "         [30.],\n",
              "         [40.],\n",
              "         [50.],\n",
              "         [60.],\n",
              "         [70.],\n",
              "         [80.],\n",
              "         [90.]]),\n",
              " tensor([[ 0., 10., 20., 30., 40., 50., 60., 70., 80., 90.]]))"
            ]
          },
          "metadata": {},
          "execution_count": 24
        }
      ]
    },
    {
      "cell_type": "code",
      "source": [
        "x = torch.arange(1,10)\n",
        "x = x.reshape(1,3,3)"
      ],
      "metadata": {
        "id": "W79nWAHZY6hQ"
      },
      "execution_count": 25,
      "outputs": []
    },
    {
      "cell_type": "code",
      "source": [
        "x[:, 0]     # : only applies to 1st dim"
      ],
      "metadata": {
        "colab": {
          "base_uri": "https://localhost:8080/"
        },
        "id": "difCV1HUad_y",
        "outputId": "14aa5c06-884d-49cb-b35c-d3c1f69af021"
      },
      "execution_count": 26,
      "outputs": [
        {
          "output_type": "execute_result",
          "data": {
            "text/plain": [
              "tensor([[1, 2, 3]])"
            ]
          },
          "metadata": {},
          "execution_count": 26
        }
      ]
    },
    {
      "cell_type": "code",
      "source": [
        "x[:,:,0]   # : applies to 1st 2 dims"
      ],
      "metadata": {
        "colab": {
          "base_uri": "https://localhost:8080/"
        },
        "id": "wGvq9yZian5n",
        "outputId": "e07104a3-5e80-457d-850a-eb3917b76ade"
      },
      "execution_count": 27,
      "outputs": [
        {
          "output_type": "execute_result",
          "data": {
            "text/plain": [
              "tensor([[1, 4, 7]])"
            ]
          },
          "metadata": {},
          "execution_count": 27
        }
      ]
    },
    {
      "cell_type": "markdown",
      "source": [
        "## NUMPY TENSOR"
      ],
      "metadata": {
        "id": "0WYo0GMZazLP"
      }
    },
    {
      "cell_type": "code",
      "source": [
        "import torch\n",
        "import numpy as np\n",
        "\n",
        "arr = np.arange(1.,8.)    # numpy default float type is float 63\n",
        "x = torch.from_numpy(arr) # torch's default float type is float 32 but since its now imported from arr, its now float 64\n",
        "x"
      ],
      "metadata": {
        "colab": {
          "base_uri": "https://localhost:8080/"
        },
        "id": "FmfZpH3ebYmX",
        "outputId": "1834e289-416e-45ab-a10e-dc08fd131724"
      },
      "execution_count": 28,
      "outputs": [
        {
          "output_type": "execute_result",
          "data": {
            "text/plain": [
              "tensor([1., 2., 3., 4., 5., 6., 7.], dtype=torch.float64)"
            ]
          },
          "metadata": {},
          "execution_count": 28
        }
      ]
    },
    {
      "cell_type": "code",
      "source": [
        "# tensor to numpy\n",
        "tensor = torch.ones(7)\n",
        "np_tensor = tensor.numpy()  # dype of np_tensor will be float 32 as its derived from tensor whose default dtype is float 32\n",
        "tensor, np_tensor"
      ],
      "metadata": {
        "colab": {
          "base_uri": "https://localhost:8080/"
        },
        "id": "-wxOJn_NboHP",
        "outputId": "809fd426-75da-4456-d003-0c22d290f18b"
      },
      "execution_count": 29,
      "outputs": [
        {
          "output_type": "execute_result",
          "data": {
            "text/plain": [
              "(tensor([1., 1., 1., 1., 1., 1., 1.]),\n",
              " array([1., 1., 1., 1., 1., 1., 1.], dtype=float32))"
            ]
          },
          "metadata": {},
          "execution_count": 29
        }
      ]
    },
    {
      "cell_type": "markdown",
      "source": [
        "## RANDOM SEED"
      ],
      "metadata": {
        "id": "CkIbinySc2-f"
      }
    },
    {
      "cell_type": "code",
      "source": [
        "RANDOM_SEED = 42\n",
        "\n",
        "torch.manual_seed(RANDOM_SEED)\n",
        "rand_A = torch.rand(2,2)\n",
        "\n",
        "torch.manual_seed(RANDOM_SEED)    # NOTE: above every rand fn we need to add that line manual_seed, cuz thats how it works\n",
        "rand_B = torch.rand(2,2)\n",
        "\n",
        "rand_A, rand_B"
      ],
      "metadata": {
        "colab": {
          "base_uri": "https://localhost:8080/"
        },
        "id": "F9zmmXCPgFv4",
        "outputId": "2ecaf19f-98af-4c9c-f4a8-48bcaba300e7"
      },
      "execution_count": 30,
      "outputs": [
        {
          "output_type": "execute_result",
          "data": {
            "text/plain": [
              "(tensor([[0.8823, 0.9150],\n",
              "         [0.3829, 0.9593]]),\n",
              " tensor([[0.8823, 0.9150],\n",
              "         [0.3829, 0.9593]]))"
            ]
          },
          "metadata": {},
          "execution_count": 30
        }
      ]
    },
    {
      "cell_type": "markdown",
      "source": [],
      "metadata": {
        "id": "xV3CRiUT2l8K"
      }
    },
    {
      "cell_type": "markdown",
      "source": [
        "## GPU"
      ],
      "metadata": {
        "id": "EvkGjl1BgUUg"
      }
    },
    {
      "cell_type": "code",
      "source": [
        "import torch\n",
        "torch.cuda.is_available()"
      ],
      "metadata": {
        "colab": {
          "base_uri": "https://localhost:8080/"
        },
        "id": "3gM-Ca1H2ov2",
        "outputId": "1b5a98e4-6c72-4ccc-ca9f-11763ab18535"
      },
      "execution_count": 31,
      "outputs": [
        {
          "output_type": "execute_result",
          "data": {
            "text/plain": [
              "True"
            ]
          },
          "metadata": {},
          "execution_count": 31
        }
      ]
    },
    {
      "cell_type": "code",
      "source": [
        "# Setup device agnostic code\n",
        "device = \"cuda\" if torch.cuda.is_available() else \"cpu\"\n",
        "device"
      ],
      "metadata": {
        "colab": {
          "base_uri": "https://localhost:8080/",
          "height": 35
        },
        "id": "ct7ef2QP2yWo",
        "outputId": "53240b15-aec9-417c-cfc9-f7a9b7bdeb8c"
      },
      "execution_count": 32,
      "outputs": [
        {
          "output_type": "execute_result",
          "data": {
            "text/plain": [
              "'cuda'"
            ],
            "application/vnd.google.colaboratory.intrinsic+json": {
              "type": "string"
            }
          },
          "metadata": {},
          "execution_count": 32
        }
      ]
    },
    {
      "cell_type": "code",
      "source": [
        "# count number of devices\n",
        "torch.cuda.device_count()"
      ],
      "metadata": {
        "colab": {
          "base_uri": "https://localhost:8080/"
        },
        "id": "qlrH-QFW3B3j",
        "outputId": "62771fee-c490-4f00-bafb-66b87ec2b674"
      },
      "execution_count": 33,
      "outputs": [
        {
          "output_type": "execute_result",
          "data": {
            "text/plain": [
              "1"
            ]
          },
          "metadata": {},
          "execution_count": 33
        }
      ]
    },
    {
      "cell_type": "code",
      "source": [
        "# TENSORS AND MODELS ON GPU\n",
        "tensor = torch.tensor([1, 2, 3])\n",
        "tensor, tensor.device"
      ],
      "metadata": {
        "colab": {
          "base_uri": "https://localhost:8080/"
        },
        "id": "H2H1uh5O3IO7",
        "outputId": "4e84354d-1a79-4d6c-b2d7-3f4aee86ac35"
      },
      "execution_count": 34,
      "outputs": [
        {
          "output_type": "execute_result",
          "data": {
            "text/plain": [
              "(tensor([1, 2, 3]), device(type='cpu'))"
            ]
          },
          "metadata": {},
          "execution_count": 34
        }
      ]
    },
    {
      "cell_type": "code",
      "source": [
        "tensor_on_gpu = tensor.to(device)\n",
        "tensor_on_gpu"
      ],
      "metadata": {
        "colab": {
          "base_uri": "https://localhost:8080/"
        },
        "id": "gqR_jFkg4nAn",
        "outputId": "39950ac0-89cd-4ce3-d4b6-8e690d7e6d50"
      },
      "execution_count": 36,
      "outputs": [
        {
          "output_type": "execute_result",
          "data": {
            "text/plain": [
              "tensor([1, 2, 3], device='cuda:0')"
            ]
          },
          "metadata": {},
          "execution_count": 36
        }
      ]
    },
    {
      "cell_type": "code",
      "source": [
        "# Moving tensors back to cpu\n",
        "tensor_to_cpu = tensor_on_gpu.cpu().detach().numpy()\n",
        "tensor_to_cpu"
      ],
      "metadata": {
        "colab": {
          "base_uri": "https://localhost:8080/"
        },
        "id": "O_LZQMS34sIP",
        "outputId": "0dab5111-8ec1-4846-c207-14c7e144042f"
      },
      "execution_count": 41,
      "outputs": [
        {
          "output_type": "execute_result",
          "data": {
            "text/plain": [
              "array([1, 2, 3])"
            ]
          },
          "metadata": {},
          "execution_count": 41
        }
      ]
    },
    {
      "cell_type": "code",
      "source": [],
      "metadata": {
        "id": "ssKGEKVk5Lxz"
      },
      "execution_count": null,
      "outputs": []
    }
  ]
}